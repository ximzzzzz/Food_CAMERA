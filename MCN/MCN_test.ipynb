{
 "cells": [
  {
   "cell_type": "code",
   "execution_count": 44,
   "metadata": {},
   "outputs": [],
   "source": [
    "import torch\n",
    "import torch.nn as nn\n",
    "import torch.nn.functional as F\n",
    "import torchvision\n",
    "import numpy\n"
   ]
  },
  {
   "cell_type": "code",
   "execution_count": 61,
   "metadata": {},
   "outputs": [],
   "source": [
    "class Conv_cell(nn.Module):\n",
    "    def __init__(self, input_channels, output_channels, stride=(1,1), padding=0, conv_kernel_size=(3,3)):\n",
    "        super(Conv_cell, self).__init__()\n",
    "        self.conv = nn.Conv2d(input_channels, output_channels, kernel_size=conv_kernel_size,padding=padding)\n",
    "        self.bn = nn.BatchNorm2d(output_channels)\n",
    "        self.pool= nn.MaxPool2d(kernel_size=(2,2), stride=stride, padding=padding)\n",
    "        \n",
    "    def forward(self,input_tensor):\n",
    "        output = self.conv(input_tensor)\n",
    "        output = self.bn(output)\n",
    "        output = self.pool(F.relu(output))\n",
    "        return output"
   ]
  },
  {
   "cell_type": "code",
   "execution_count": 62,
   "metadata": {},
   "outputs": [],
   "source": [
    "class BCN(nn.Module):\n",
    "    def __init__(self, input_channels, output_channels):\n",
    "        super(BCN, self).__init__()\n",
    "        n_channels = [int(output_channels/4) , int(output_channels/2), output_channels]\n",
    "        self.conv1 = Conv_cell(input_channels, n_channels[0], stride=(2,2))\n",
    "        self.conv2 = Conv_cell(n_channels[0],  n_channels[1], stride=(2,2))\n",
    "        self.conv3 = Conv_cell(n_channels[1],  n_channels[2])\n",
    "    \n",
    "    def forward(self, tensor):\n",
    "        output = self.conv1(tensor)\n",
    "        output = self.conv2(output)\n",
    "        output = self.conv3(output)\n",
    "        \n",
    "        return output"
   ]
  },
  {
   "cell_type": "code",
   "execution_count": 63,
   "metadata": {},
   "outputs": [],
   "source": [
    "test = torch.FloatTensor(192, 3, 100, 100)"
   ]
  },
  {
   "cell_type": "code",
   "execution_count": 64,
   "metadata": {
    "scrolled": true
   },
   "outputs": [],
   "source": [
    "bcn_layer = BCN(3, 256)"
   ]
  },
  {
   "cell_type": "code",
   "execution_count": 65,
   "metadata": {
    "scrolled": true
   },
   "outputs": [],
   "source": [
    "hi = bcn_layer(test)"
   ]
  },
  {
   "cell_type": "code",
   "execution_count": 66,
   "metadata": {},
   "outputs": [
    {
     "data": {
      "text/plain": [
       "torch.Size([192, 256, 20, 20])"
      ]
     },
     "execution_count": 66,
     "metadata": {},
     "output_type": "execute_result"
    }
   ],
   "source": [
    "hi.shape"
   ]
  },
  {
   "cell_type": "code",
   "execution_count": 135,
   "metadata": {},
   "outputs": [],
   "source": [
    "class MCN(nn.Module):\n",
    "    def __init__(self, bcn_output_channels):\n",
    "        super(MCN, self).__init__()\n",
    "        self.channels = bcn_output_channels\n",
    "        self.conv1 = Conv_cell(self.channels, self.channels, stride=(2,1), padding = (1,0))\n",
    "        self.conv2 = Conv_cell(self.channels, self.channels, stride=(2,1), padding = (1,1))\n",
    "        self.conv3 = Conv_cell(self.channels, self.channels, stride=(2,1), padding = (1,0))\n",
    "        self.conv4 = Conv_cell(self.channels, self.channels)\n",
    "        self.char_possibility = nn.Conv2d(self.channels, 1, kernel_size = (1,1))\n",
    "        \n",
    "        \n",
    "    def forward(self, bcn_output):\n",
    "        rotated_features = []\n",
    "        P = []\n",
    "        for degree in range(4):\n",
    "            rotated = bcn_output.rot90(k = degree, dims = [2,3])\n",
    "            output = self.conv1(rotated)\n",
    "#             print('conv1 : ',output.shape)\n",
    "            output = self.conv2(output)\n",
    "#             print('conv2 : ', output.shape)\n",
    "            output = self.conv3(output)\n",
    "#             print('conv3 : ', output.shape)\n",
    "            rotated_feature = self.conv4(output)\n",
    "#             print('rotated _feature : ', rotated_feature.shape)\n",
    "            rotated_char = self.char_possibility(rotated_feature).squeeze_(2)\n",
    "#             print('rotated_char', rotated_char.shape)\n",
    "            \n",
    "            rotated_features.append(rotated_feature)\n",
    "            P.append(rotated_char)\n",
    "            character_placement_possibility = torch.cat(P, dim=1).softmax(1)\n",
    "            \n",
    "        return rotated_features, character_placement_possibility\n",
    "           "
   ]
  },
  {
   "cell_type": "code",
   "execution_count": 136,
   "metadata": {},
   "outputs": [],
   "source": [
    "mcn_layer = MCN(256)"
   ]
  },
  {
   "cell_type": "code",
   "execution_count": 137,
   "metadata": {},
   "outputs": [],
   "source": [
    "rotated_features, cpp = mcn_layer(hi)"
   ]
  },
  {
   "cell_type": "code",
   "execution_count": 159,
   "metadata": {},
   "outputs": [
    {
     "data": {
      "text/plain": [
       "torch.Size([192, 4, 12])"
      ]
     },
     "execution_count": 159,
     "metadata": {},
     "output_type": "execute_result"
    }
   ],
   "source": [
    "cpp.shape"
   ]
  },
  {
   "cell_type": "code",
   "execution_count": 180,
   "metadata": {},
   "outputs": [],
   "source": [
    "class Encoder(nn.Module):\n",
    "    def __init__(self, bcn_output_channels):\n",
    "        super(Encoder, self).__init__()\n",
    "        self.BiLSTM = nn.LSTM(bcn_output_channels, bcn_output_channels, num_layers=2, bidirectional=True)\n",
    "        \n",
    "    def forward(self, rotated_features, character_place_possibility):\n",
    "        feature_codes = 0\n",
    "        for idx, rotated_feature in enumerate(rotated_features):\n",
    "            feature_vector, _ = self.BiLSTM(rotated_feature.permute(0, 3, 1, 2).squeeze_(3))\n",
    "            p_i = character_place_possibility[:, idx, :].unsqueeze(2)\n",
    "            feature_code = feature_vector * p_i\n",
    "            feature_codes += feature_code\n",
    "        \n",
    "        return feature_codes"
   ]
  },
  {
   "cell_type": "code",
   "execution_count": 181,
   "metadata": {},
   "outputs": [],
   "source": [
    "encoder = Encoder(256)"
   ]
  },
  {
   "cell_type": "code",
   "execution_count": 182,
   "metadata": {},
   "outputs": [],
   "source": [
    "feature_codes = encoder(rotated_features, cpp)"
   ]
  },
  {
   "cell_type": "code",
   "execution_count": null,
   "metadata": {},
   "outputs": [],
   "source": [
    "class Decoder()"
   ]
  }
 ],
 "metadata": {
  "kernelspec": {
   "display_name": "Python 3",
   "language": "python",
   "name": "python3"
  },
  "language_info": {
   "codemirror_mode": {
    "name": "ipython",
    "version": 3
   },
   "file_extension": ".py",
   "mimetype": "text/x-python",
   "name": "python",
   "nbconvert_exporter": "python",
   "pygments_lexer": "ipython3",
   "version": "3.6.7"
  }
 },
 "nbformat": 4,
 "nbformat_minor": 2
}
