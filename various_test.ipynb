{
 "cells": [
  {
   "cell_type": "code",
   "execution_count": 1,
   "metadata": {},
   "outputs": [],
   "source": [
    "import json\n",
    "import pandas as pd\n",
    "import os\n",
    "import random\n",
    "import torch\n",
    "import torch.nn as nn\n",
    "import torch.backends.cudnn as cudnn\n",
    "import torch.nn.init as init\n",
    "import torch.optim as optim\n",
    "import torch.utils.data\n",
    "from torch.utils.data import *\n",
    "import numpy as np\n",
    "import time\n",
    "from PIL import Image\n",
    "import matplotlib.pyplot as plt\n",
    "from tqdm import tqdm\n",
    "import easydict\n",
    "import cv2\n",
    "\n",
    "import sys\n",
    "sys.path.append('./Whatiswrong')\n",
    "sys.path.append('./Scatter')\n",
    "import re\n",
    "import six\n",
    "import math\n",
    "import torchvision.transforms as transforms\n",
    "import utils\n",
    "import www_model\n",
    "import scatter_model\n",
    "import www_model_jamo\n",
    "import www_model_jamo_vertical\n",
    "import www_model_jamo_vertical_arcface\n",
    "import www_model_jamo_vertical_arcface_nosoftmax\n",
    "import www_model_jamo_vertical_arcface_nosoftmax_normalize\n",
    "import torch.distributed as dist\n",
    "# from apex.parallel import DistributedDataParallel as DDP\n",
    "import en_dataset\n",
    "import ko_dataset\n",
    "import albumentations\n",
    "from albumentations import GaussNoise, IAAAdditiveGaussianNoise, Compose, OneOf\n",
    "import augs\n",
    "from albumentations.pytorch import ToTensor\n",
    "from jamo import h2j, j2hcj, j2h\n",
    "\n",
    "def tensor2im(image_tensor, imtype=np.uint8):\n",
    "    image_numpy = image_tensor.cpu().float().numpy()\n",
    "    if image_numpy.shape[0] == 1:\n",
    "        image_numpy = np.tile(image_numpy, (3, 1, 1))\n",
    "    image_numpy = (np.transpose(image_numpy, (1, 2, 0)) + 1) / 2.0 * 255.0\n",
    "    return image_numpy.astype(imtype)"
   ]
  },
  {
   "cell_type": "code",
   "execution_count": 2,
   "metadata": {
    "scrolled": false
   },
   "outputs": [
    {
     "data": {
      "text/plain": [
       "<module 'utils' from './Whatiswrong/utils.py'>"
      ]
     },
     "execution_count": 2,
     "metadata": {},
     "output_type": "execute_result"
    }
   ],
   "source": [
    "import importlib\n",
    "importlib.reload(utils)"
   ]
  },
  {
   "cell_type": "code",
   "execution_count": 22,
   "metadata": {},
   "outputs": [],
   "source": [
    "# opt\n",
    "opt = easydict.EasyDict({\n",
    "    \"experiment_name\" : f'{utils.SaveDir_maker(base_model = \"www_jamo_vertical\", base_model_dir = \"./models\")}',\n",
    "    'saved_model' : '',\n",
    "    \"manualSeed\" : 1111,\n",
    "    \"imgH\" : 35 ,\n",
    "#     \"imgW\" :  350,\n",
    "    \"imgW\" :  250,\n",
    "    \"PAD\" : True ,\n",
    "    'batch_size' : 384,\n",
    "    'data_filtering_off' : True,\n",
    "    'workers' : 20,\n",
    "    'rgb' :True,\n",
    "    'sensitive' : True,\n",
    "#     'character' : '0123456789ㄱㄲㄴㄷㄸㄹㅁㅂㅃㅅㅆㅇㅈㅉㅊㅋㅌㅍㅎㄵㄶㄺㄻㅀㄼㅄabcdefghijklmnopqrstuvwxyzABCDEFGHIJKLMNOPQRSTUVWXYZㅏㅑㅓㅕㅗㅛㅜㅠㅡㅣㅐㅒㅔㅖㅢㅟㅝㅞㅚㅘㅙ!\"#$%&\\'()*+,-./:;<=>?@[\\\\]^_`{|}~ ' ,\n",
    "    'character' : ' !\"#$%&\\'()*+,-./:;<=>?@[\\\\]^_`{|}~01234567890abcdefghijklmnopqrstuvwxyzABCDEFGHIJKLMNOPQRSTUVWXYZ가각간갇갈갉갊감갑값갓갔강갖갗같갚갛개객갠갤갬갭갯갰갱갸갹갼걀걋걍걔걘걜거걱건걷걸걺검겁것겄겅겆겉겊겋게겐겔겜겝겟겠겡겨격겪견겯결겸겹겻겼경곁계곈곌곕곗고곡곤곧골곪곬곯곰곱곳공곶과곽관괄괆괌괍괏광괘괜괠괩괬괭괴괵괸괼굄굅굇굉교굔굘굡굣구국군굳굴굵굶굻굼굽굿궁궂궈궉권궐궜궝궤궷귀귁귄귈귐귑귓규균귤그극근귿글긁금급긋긍긔기긱긴긷길긺김깁깃깅깆깊까깍깎깐깔깖깜깝깟깠깡깥깨깩깬깰깸깹깻깼깽꺄꺅꺌꺼꺽꺾껀껄껌껍껏껐껑께껙껜껨껫껭껴껸껼꼇꼈꼍꼐꼬꼭꼰꼲꼴꼼꼽꼿꽁꽂꽃꽈꽉꽐꽜꽝꽤꽥꽹꾀꾄꾈꾐꾑꾕꾜꾸꾹꾼꿀꿇꿈꿉꿋꿍꿎꿔꿜꿨꿩꿰꿱꿴꿸뀀뀁뀄뀌뀐뀔뀜뀝뀨끄끅끈끊끌끎끓끔끕끗끙끝끼끽낀낄낌낍낏낑나낙낚난낟날낡낢남납낫났낭낮낯낱낳내낵낸낼냄냅냇냈냉냐냑냔냘냠냥너넉넋넌널넒넓넘넙넛넜넝넣네넥넨넬넴넵넷넸넹녀녁년녈념녑녔녕녘녜녠노녹논놀놂놈놉놋농높놓놔놘놜놨뇌뇐뇔뇜뇝뇟뇨뇩뇬뇰뇹뇻뇽누눅눈눋눌눔눕눗눙눠눴눼뉘뉜뉠뉨뉩뉴뉵뉼늄늅늉느늑는늘늙늚늠늡늣능늦늪늬늰늴니닉닌닐닒님닙닛닝닢다닥닦단닫달닭닮닯닳담답닷닸당닺닻닿대댁댄댈댐댑댓댔댕댜더덕덖던덛덜덞덟덤덥덧덩덫덮데덱덴델뎀뎁뎃뎄뎅뎌뎐뎔뎠뎡뎨뎬도독돈돋돌돎돐돔돕돗동돛돝돠돤돨돼됐되된될됨됩됫됴두둑둔둘둠둡둣둥둬뒀뒈뒝뒤뒨뒬뒵뒷뒹듀듄듈듐듕드득든듣들듦듬듭듯등듸디딕딘딛딜딤딥딧딨딩딪따딱딴딸땀땁땃땄땅땋때땍땐땔땜땝땟땠땡떠떡떤떨떪떫떰떱떳떴떵떻떼떽뗀뗄뗌뗍뗏뗐뗑뗘뗬또똑똔똘똥똬똴뙈뙤뙨뚜뚝뚠뚤뚫뚬뚱뛔뛰뛴뛸뜀뜁뜅뜨뜩뜬뜯뜰뜸뜹뜻띄띈띌띔띕띠띤띨띰띱띳띵라락란랄람랍랏랐랑랒랖랗래랙랜랠램랩랫랬랭랴략랸럇량러럭런럴럼럽럿렀렁렇레렉렌렐렘렙렛렝려력련렬렴렵렷렸령례롄롑롓로록론롤롬롭롯롱롸롼뢍뢨뢰뢴뢸룀룁룃룅료룐룔룝룟룡루룩룬룰룸룹룻룽뤄뤘뤠뤼뤽륀륄륌륏륑류륙륜률륨륩륫륭르륵른를름릅릇릉릊릍릎리릭린릴림립릿링마막만많맏말맑맒맘맙맛망맞맡맣매맥맨맬맴맵맷맸맹맺먀먁먈먕머먹먼멀멂멈멉멋멍멎멓메멕멘멜멤멥멧멨멩며멱면멸몃몄명몇몌모목몫몬몰몲몸몹못몽뫄뫈뫘뫙뫼묀묄묍묏묑묘묜묠묩묫무묵묶문묻물묽묾뭄뭅뭇뭉뭍뭏뭐뭔뭘뭡뭣뭬뮈뮌뮐뮤뮨뮬뮴뮷므믄믈믐믓미믹민믿밀밂밈밉밋밌밍및밑바박밖밗반받발밝밞밟밤밥밧방밭배백밴밸뱀뱁뱃뱄뱅뱉뱌뱍뱐뱝버벅번벋벌벎범법벗벙벚베벡벤벧벨벰벱벳벴벵벼벽변별볍볏볐병볕볘볜보복볶본볼봄봅봇봉봐봔봤봬뵀뵈뵉뵌뵐뵘뵙뵤뵨부북분붇불붉붊붐붑붓붕붙붚붜붤붰붸뷔뷕뷘뷜뷩뷰뷴뷸븀븃븅브븍븐블븜븝븟비빅빈빌빎빔빕빗빙빚빛빠빡빤빨빪빰빱빳빴빵빻빼빽뺀뺄뺌뺍뺏뺐뺑뺘뺙뺨뻐뻑뻔뻗뻘뻠뻣뻤뻥뻬뼁뼈뼉뼘뼙뼛뼜뼝뽀뽁뽄뽈뽐뽑뽕뾔뾰뿅뿌뿍뿐뿔뿜뿟뿡쀼쁑쁘쁜쁠쁨쁩삐삑삔삘삠삡삣삥사삭삯산삳살삵삶삼삽삿샀상샅새색샌샐샘샙샛샜생샤샥샨샬샴샵샷샹섀섄섈섐섕서석섞섟선섣설섦섧섬섭섯섰성섶세섹센셀셈셉셋셌셍셔셕션셜셤셥셧셨셩셰셴셸솅소속솎손솔솖솜솝솟송솥솨솩솬솰솽쇄쇈쇌쇔쇗쇘쇠쇤쇨쇰쇱쇳쇼쇽숀숄숌숍숏숑수숙순숟술숨숩숫숭숯숱숲숴쉈쉐쉑쉔쉘쉠쉥쉬쉭쉰쉴쉼쉽쉿슁슈슉슐슘슛슝스슥슨슬슭슴습슷승시식신싣실싫심십싯싱싶싸싹싻싼쌀쌈쌉쌌쌍쌓쌔쌕쌘쌜쌤쌥쌨쌩썅써썩썬썰썲썸썹썼썽쎄쎈쎌쏀쏘쏙쏜쏟쏠쏢쏨쏩쏭쏴쏵쏸쐈쐐쐤쐬쐰쐴쐼쐽쑈쑤쑥쑨쑬쑴쑵쑹쒀쒔쒜쒸쒼쓩쓰쓱쓴쓸쓺쓿씀씁씌씐씔씜씨씩씬씰씸씹씻씽아악안앉않알앍앎앓암압앗았앙앝앞애액앤앨앰앱앳앴앵야약얀얄얇얌얍얏양얕얗얘얜얠얩어억언얹얻얼얽얾엄업없엇었엉엊엌엎에엑엔엘엠엡엣엥여역엮연열엶엷염엽엾엿였영옅옆옇예옌옐옘옙옛옜오옥온올옭옮옰옳옴옵옷옹옻와왁완왈왐왑왓왔왕왜왝왠왬왯왱외왹왼욀욈욉욋욍요욕욘욜욤욥욧용우욱운울욹욺움웁웃웅워웍원월웜웝웠웡웨웩웬웰웸웹웽위윅윈윌윔윕윗윙유육윤율윰윱윳융윷으윽은을읊음읍읏응읒읓읔읕읖읗의읩읜읠읨읫이익인일읽읾잃임입잇있잉잊잎자작잔잖잗잘잚잠잡잣잤장잦재잭잰잴잼잽잿쟀쟁쟈쟉쟌쟎쟐쟘쟝쟤쟨쟬저적전절젊점접젓정젖제젝젠젤젬젭젯젱져젼졀졈졉졌졍졔조족존졸졺좀좁좃종좆좇좋좌좍좔좝좟좡좨좼좽죄죈죌죔죕죗죙죠죡죤죵주죽준줄줅줆줌줍줏중줘줬줴쥐쥑쥔쥘쥠쥡쥣쥬쥰쥴쥼즈즉즌즐즘즙즛증지직진짇질짊짐집짓징짖짙짚짜짝짠짢짤짧짬짭짯짰짱째짹짼쨀쨈쨉쨋쨌쨍쨔쨘쨩쩌쩍쩐쩔쩜쩝쩟쩠쩡쩨쩽쪄쪘쪼쪽쫀쫄쫌쫍쫏쫑쫓쫘쫙쫠쫬쫴쬈쬐쬔쬘쬠쬡쭁쭈쭉쭌쭐쭘쭙쭝쭤쭸쭹쮜쮸쯔쯤쯧쯩찌찍찐찔찜찝찡찢찧차착찬찮찰참찹찻찼창찾채책챈챌챔챕챗챘챙챠챤챦챨챰챵처척천철첨첩첫첬청체첵첸첼쳄쳅쳇쳉쳐쳔쳤쳬쳰촁초촉촌촐촘촙촛총촤촨촬촹최쵠쵤쵬쵭쵯쵱쵸춈추축춘출춤춥춧충춰췄췌췐취췬췰췸췹췻췽츄츈츌츔츙츠측츤츨츰츱츳층치칙친칟칠칡침칩칫칭카칵칸칼캄캅캇캉캐캑캔캘캠캡캣캤캥캬캭컁커컥컨컫컬컴컵컷컸컹케켁켄켈켐켑켓켕켜켠켤켬켭켯켰켱켸코콕콘콜콤콥콧콩콰콱콴콸쾀쾅쾌쾡쾨쾰쿄쿠쿡쿤쿨쿰쿱쿳쿵쿼퀀퀄퀑퀘퀭퀴퀵퀸퀼큄큅큇큉큐큔큘큠크큭큰클큼큽킁키킥킨킬킴킵킷킹타탁탄탈탉탐탑탓탔탕태택탠탤탬탭탯탰탱탸턍터턱턴털턺텀텁텃텄텅테텍텐텔템텝텟텡텨텬텼톄톈토톡톤톨톰톱톳통톺톼퇀퇘퇴퇸툇툉툐투툭툰툴툼툽툿퉁퉈퉜퉤튀튁튄튈튐튑튕튜튠튤튬튱트특튼튿틀틂틈틉틋틔틘틜틤틥티틱틴틸팀팁팃팅파팍팎판팔팖팜팝팟팠팡팥패팩팬팰팸팹팻팼팽퍄퍅퍼퍽펀펄펌펍펏펐펑페펙펜펠펨펩펫펭펴편펼폄폅폈평폐폘폡폣포폭폰폴폼폽폿퐁퐈퐝푀푄표푠푤푭푯푸푹푼푿풀풂품풉풋풍풔풩퓌퓐퓔퓜퓟퓨퓬퓰퓸퓻퓽프픈플픔픕픗피픽핀필핌핍핏핑하학한할핥함합핫항해핵핸핼햄햅햇했행햐향허헉헌헐헒험헙헛헝헤헥헨헬헴헵헷헹혀혁현혈혐협혓혔형혜혠혤혭호혹혼홀홅홈홉홋홍홑화확환활홧황홰홱홴횃횅회획횐횔횝횟횡효횬횰횹횻후훅훈훌훑훔훗훙훠훤훨훰훵훼훽휀휄휑휘휙휜휠휨휩휫휭휴휵휸휼흄흇흉흐흑흔흖흗흘흙흠흡흣흥흩희흰흴흼흽힁히힉힌힐힘힙힛힝辛情美秀生',\n",
    "    'top_char' : ' !\"#$%&\\'()*+,-./:;<=>?@[\\\\]^_`{|}~01234567890abcdefghijklmnopqrstuvwxyzABCDEFGHIJKLMNOPQRSTUVWXYZㄱㄴㄷㄹㅁㅂㅅㅇㅈㅊㅋㅌㅍㅎㄲㄸㅃㅆㅉ',\n",
    "    'middle_char' : ' ㅏㅑㅓㅕㅗㅛㅜㅠㅡㅣㅐㅒㅔㅖㅘㅙㅚㅝㅞㅟㅢ',\n",
    "    'bottom_char' : ' ㄱㄴㄷㄹㅁㅂㅅㅇㅈㅊㅋㅌㅍㅎㄲㄸㅃㅆㅉㄳㄵㄶㄺㄻㄼㄽㄾㄿㅀㅄ',\n",
    "    'batch_max_length' : 25,\n",
    "    'num_fiducial' : 20,\n",
    "    'output_channel' : 512,\n",
    "    'hidden_size' :256,\n",
    "    'lr' : 1,\n",
    "    'rho' : 0.95,\n",
    "    'eps' : 1e-8,\n",
    "    'grad_clip' : 5,\n",
    "    'valInterval' : 200,\n",
    "    'num_epoch' : 100,\n",
    "    'input_channel' : 3,\n",
    "    'FT' : True,\n",
    "    'extract' : 'efficientnet-b3',\n",
    "    'pred' : 'arcface'\n",
    "    })\n",
    "\n",
    "converter = utils.AttnLabelConverter(opt.character)\n",
    "opt.num_classes = len(converter.character)\n",
    "top_converter = utils.AttnLabelConverter(opt.top_char)\n",
    "middle_converter = utils.AttnLabelConverter(opt.middle_char)\n",
    "bottom_converter = utils.AttnLabelConverter(opt.bottom_char)\n",
    "opt.top_n_cls = len(top_converter.character)\n",
    "opt.middle_n_cls = len(middle_converter.character)\n",
    "opt.bottom_n_cls = len(bottom_converter.character)\n",
    "device = torch.device('cpu')"
   ]
  },
  {
   "cell_type": "code",
   "execution_count": null,
   "metadata": {},
   "outputs": [],
   "source": [
    "scatter_opt = easydict.EasyDict({\n",
    "    \"experiment_name\" : f'{utils.SaveDir_maker(\"scatter\", \"./models\")}',\n",
    "#     'saved_model' : 'scatter_0704/1/best_accuracy.pth',\n",
    "    \"imgH\" : 35 ,\"imgW\" :  250,  'batch_size' : 64, \n",
    "#     'character' : '0123456789ㄱㄲㄴㄷㄸㄹㅁㅂㅃㅅㅆㅇㅈㅉㅊㅋㅌㅍㅎㄵㄶㄺㄻㅀㄼㅄabcdefghijklmnopqrstuvwxyzABCDEFGHIJKLMNOPQRSTUVWXYZㅏㅑㅓㅕㅗㅛㅜㅠㅡㅣㅐㅒㅔㅖㅢㅟㅝㅞㅚㅘㅙ!\"#$%&\\'()*+,-./:;<=>?@[\\\\]^_`{|}~ ' ,\n",
    "    'character' : ' !\"#$%&\\'()*+,-./:;<=>?@[\\\\]^_`{|}~01234567890abcdefghijklmnopqrstuvwxyzABCDEFGHIJKLMNOPQRSTUVWXYZ가각간갇갈갉갊감갑값갓갔강갖갗같갚갛개객갠갤갬갭갯갰갱갸갹갼걀걋걍걔걘걜거걱건걷걸걺검겁것겄겅겆겉겊겋게겐겔겜겝겟겠겡겨격겪견겯결겸겹겻겼경곁계곈곌곕곗고곡곤곧골곪곬곯곰곱곳공곶과곽관괄괆괌괍괏광괘괜괠괩괬괭괴괵괸괼굄굅굇굉교굔굘굡굣구국군굳굴굵굶굻굼굽굿궁궂궈궉권궐궜궝궤궷귀귁귄귈귐귑귓규균귤그극근귿글긁금급긋긍긔기긱긴긷길긺김깁깃깅깆깊까깍깎깐깔깖깜깝깟깠깡깥깨깩깬깰깸깹깻깼깽꺄꺅꺌꺼꺽꺾껀껄껌껍껏껐껑께껙껜껨껫껭껴껸껼꼇꼈꼍꼐꼬꼭꼰꼲꼴꼼꼽꼿꽁꽂꽃꽈꽉꽐꽜꽝꽤꽥꽹꾀꾄꾈꾐꾑꾕꾜꾸꾹꾼꿀꿇꿈꿉꿋꿍꿎꿔꿜꿨꿩꿰꿱꿴꿸뀀뀁뀄뀌뀐뀔뀜뀝뀨끄끅끈끊끌끎끓끔끕끗끙끝끼끽낀낄낌낍낏낑나낙낚난낟날낡낢남납낫났낭낮낯낱낳내낵낸낼냄냅냇냈냉냐냑냔냘냠냥너넉넋넌널넒넓넘넙넛넜넝넣네넥넨넬넴넵넷넸넹녀녁년녈념녑녔녕녘녜녠노녹논놀놂놈놉놋농높놓놔놘놜놨뇌뇐뇔뇜뇝뇟뇨뇩뇬뇰뇹뇻뇽누눅눈눋눌눔눕눗눙눠눴눼뉘뉜뉠뉨뉩뉴뉵뉼늄늅늉느늑는늘늙늚늠늡늣능늦늪늬늰늴니닉닌닐닒님닙닛닝닢다닥닦단닫달닭닮닯닳담답닷닸당닺닻닿대댁댄댈댐댑댓댔댕댜더덕덖던덛덜덞덟덤덥덧덩덫덮데덱덴델뎀뎁뎃뎄뎅뎌뎐뎔뎠뎡뎨뎬도독돈돋돌돎돐돔돕돗동돛돝돠돤돨돼됐되된될됨됩됫됴두둑둔둘둠둡둣둥둬뒀뒈뒝뒤뒨뒬뒵뒷뒹듀듄듈듐듕드득든듣들듦듬듭듯등듸디딕딘딛딜딤딥딧딨딩딪따딱딴딸땀땁땃땄땅땋때땍땐땔땜땝땟땠땡떠떡떤떨떪떫떰떱떳떴떵떻떼떽뗀뗄뗌뗍뗏뗐뗑뗘뗬또똑똔똘똥똬똴뙈뙤뙨뚜뚝뚠뚤뚫뚬뚱뛔뛰뛴뛸뜀뜁뜅뜨뜩뜬뜯뜰뜸뜹뜻띄띈띌띔띕띠띤띨띰띱띳띵라락란랄람랍랏랐랑랒랖랗래랙랜랠램랩랫랬랭랴략랸럇량러럭런럴럼럽럿렀렁렇레렉렌렐렘렙렛렝려력련렬렴렵렷렸령례롄롑롓로록론롤롬롭롯롱롸롼뢍뢨뢰뢴뢸룀룁룃룅료룐룔룝룟룡루룩룬룰룸룹룻룽뤄뤘뤠뤼뤽륀륄륌륏륑류륙륜률륨륩륫륭르륵른를름릅릇릉릊릍릎리릭린릴림립릿링마막만많맏말맑맒맘맙맛망맞맡맣매맥맨맬맴맵맷맸맹맺먀먁먈먕머먹먼멀멂멈멉멋멍멎멓메멕멘멜멤멥멧멨멩며멱면멸몃몄명몇몌모목몫몬몰몲몸몹못몽뫄뫈뫘뫙뫼묀묄묍묏묑묘묜묠묩묫무묵묶문묻물묽묾뭄뭅뭇뭉뭍뭏뭐뭔뭘뭡뭣뭬뮈뮌뮐뮤뮨뮬뮴뮷므믄믈믐믓미믹민믿밀밂밈밉밋밌밍및밑바박밖밗반받발밝밞밟밤밥밧방밭배백밴밸뱀뱁뱃뱄뱅뱉뱌뱍뱐뱝버벅번벋벌벎범법벗벙벚베벡벤벧벨벰벱벳벴벵벼벽변별볍볏볐병볕볘볜보복볶본볼봄봅봇봉봐봔봤봬뵀뵈뵉뵌뵐뵘뵙뵤뵨부북분붇불붉붊붐붑붓붕붙붚붜붤붰붸뷔뷕뷘뷜뷩뷰뷴뷸븀븃븅브븍븐블븜븝븟비빅빈빌빎빔빕빗빙빚빛빠빡빤빨빪빰빱빳빴빵빻빼빽뺀뺄뺌뺍뺏뺐뺑뺘뺙뺨뻐뻑뻔뻗뻘뻠뻣뻤뻥뻬뼁뼈뼉뼘뼙뼛뼜뼝뽀뽁뽄뽈뽐뽑뽕뾔뾰뿅뿌뿍뿐뿔뿜뿟뿡쀼쁑쁘쁜쁠쁨쁩삐삑삔삘삠삡삣삥사삭삯산삳살삵삶삼삽삿샀상샅새색샌샐샘샙샛샜생샤샥샨샬샴샵샷샹섀섄섈섐섕서석섞섟선섣설섦섧섬섭섯섰성섶세섹센셀셈셉셋셌셍셔셕션셜셤셥셧셨셩셰셴셸솅소속솎손솔솖솜솝솟송솥솨솩솬솰솽쇄쇈쇌쇔쇗쇘쇠쇤쇨쇰쇱쇳쇼쇽숀숄숌숍숏숑수숙순숟술숨숩숫숭숯숱숲숴쉈쉐쉑쉔쉘쉠쉥쉬쉭쉰쉴쉼쉽쉿슁슈슉슐슘슛슝스슥슨슬슭슴습슷승시식신싣실싫심십싯싱싶싸싹싻싼쌀쌈쌉쌌쌍쌓쌔쌕쌘쌜쌤쌥쌨쌩썅써썩썬썰썲썸썹썼썽쎄쎈쎌쏀쏘쏙쏜쏟쏠쏢쏨쏩쏭쏴쏵쏸쐈쐐쐤쐬쐰쐴쐼쐽쑈쑤쑥쑨쑬쑴쑵쑹쒀쒔쒜쒸쒼쓩쓰쓱쓴쓸쓺쓿씀씁씌씐씔씜씨씩씬씰씸씹씻씽아악안앉않알앍앎앓암압앗았앙앝앞애액앤앨앰앱앳앴앵야약얀얄얇얌얍얏양얕얗얘얜얠얩어억언얹얻얼얽얾엄업없엇었엉엊엌엎에엑엔엘엠엡엣엥여역엮연열엶엷염엽엾엿였영옅옆옇예옌옐옘옙옛옜오옥온올옭옮옰옳옴옵옷옹옻와왁완왈왐왑왓왔왕왜왝왠왬왯왱외왹왼욀욈욉욋욍요욕욘욜욤욥욧용우욱운울욹욺움웁웃웅워웍원월웜웝웠웡웨웩웬웰웸웹웽위윅윈윌윔윕윗윙유육윤율윰윱윳융윷으윽은을읊음읍읏응읒읓읔읕읖읗의읩읜읠읨읫이익인일읽읾잃임입잇있잉잊잎자작잔잖잗잘잚잠잡잣잤장잦재잭잰잴잼잽잿쟀쟁쟈쟉쟌쟎쟐쟘쟝쟤쟨쟬저적전절젊점접젓정젖제젝젠젤젬젭젯젱져젼졀졈졉졌졍졔조족존졸졺좀좁좃종좆좇좋좌좍좔좝좟좡좨좼좽죄죈죌죔죕죗죙죠죡죤죵주죽준줄줅줆줌줍줏중줘줬줴쥐쥑쥔쥘쥠쥡쥣쥬쥰쥴쥼즈즉즌즐즘즙즛증지직진짇질짊짐집짓징짖짙짚짜짝짠짢짤짧짬짭짯짰짱째짹짼쨀쨈쨉쨋쨌쨍쨔쨘쨩쩌쩍쩐쩔쩜쩝쩟쩠쩡쩨쩽쪄쪘쪼쪽쫀쫄쫌쫍쫏쫑쫓쫘쫙쫠쫬쫴쬈쬐쬔쬘쬠쬡쭁쭈쭉쭌쭐쭘쭙쭝쭤쭸쭹쮜쮸쯔쯤쯧쯩찌찍찐찔찜찝찡찢찧차착찬찮찰참찹찻찼창찾채책챈챌챔챕챗챘챙챠챤챦챨챰챵처척천철첨첩첫첬청체첵첸첼쳄쳅쳇쳉쳐쳔쳤쳬쳰촁초촉촌촐촘촙촛총촤촨촬촹최쵠쵤쵬쵭쵯쵱쵸춈추축춘출춤춥춧충춰췄췌췐취췬췰췸췹췻췽츄츈츌츔츙츠측츤츨츰츱츳층치칙친칟칠칡침칩칫칭카칵칸칼캄캅캇캉캐캑캔캘캠캡캣캤캥캬캭컁커컥컨컫컬컴컵컷컸컹케켁켄켈켐켑켓켕켜켠켤켬켭켯켰켱켸코콕콘콜콤콥콧콩콰콱콴콸쾀쾅쾌쾡쾨쾰쿄쿠쿡쿤쿨쿰쿱쿳쿵쿼퀀퀄퀑퀘퀭퀴퀵퀸퀼큄큅큇큉큐큔큘큠크큭큰클큼큽킁키킥킨킬킴킵킷킹타탁탄탈탉탐탑탓탔탕태택탠탤탬탭탯탰탱탸턍터턱턴털턺텀텁텃텄텅테텍텐텔템텝텟텡텨텬텼톄톈토톡톤톨톰톱톳통톺톼퇀퇘퇴퇸툇툉툐투툭툰툴툼툽툿퉁퉈퉜퉤튀튁튄튈튐튑튕튜튠튤튬튱트특튼튿틀틂틈틉틋틔틘틜틤틥티틱틴틸팀팁팃팅파팍팎판팔팖팜팝팟팠팡팥패팩팬팰팸팹팻팼팽퍄퍅퍼퍽펀펄펌펍펏펐펑페펙펜펠펨펩펫펭펴편펼폄폅폈평폐폘폡폣포폭폰폴폼폽폿퐁퐈퐝푀푄표푠푤푭푯푸푹푼푿풀풂품풉풋풍풔풩퓌퓐퓔퓜퓟퓨퓬퓰퓸퓻퓽프픈플픔픕픗피픽핀필핌핍핏핑하학한할핥함합핫항해핵핸핼햄햅햇했행햐향허헉헌헐헒험헙헛헝헤헥헨헬헴헵헷헹혀혁현혈혐협혓혔형혜혠혤혭호혹혼홀홅홈홉홋홍홑화확환활홧황홰홱홴횃횅회획횐횔횝횟횡효횬횰횹횻후훅훈훌훑훔훗훙훠훤훨훰훵훼훽휀휄휑휘휙휜휠휨휩휫휭휴휵휸휼흄흇흉흐흑흔흖흗흘흙흠흡흣흥흩희흰흴흼흽힁히힉힌힐힘힙힛힝',\n",
    "    'batch_max_length' : 30,\n",
    "    'output_channel' : 512, 'hidden_size' :256,\n",
    "    'valinterval' : 200, 'num_epoch' : 300, 'input_channel' : 3,\n",
    "    'n_scrb' : 2, 'scr_loss_lambda' : 1, 'ctc_loss_lambda' : 0.1,\n",
    "    'lr' : 1, 'rho' : 0.95, 'eps' : 1e-8,\n",
    "    'grad_clip' : 5,\n",
    "    \"manualSeed\" : 1111, \"PAD\" : True ,'data_filtering_off' : True,'rgb' :True,'sensitive' : True, 'FT' : True,\n",
    "    'num_fiducial' : 20,\n",
    "    'extract' : 'efficientnet-b5',\n",
    "    'scr_n_blocks' : 5\n",
    "    })\n",
    "converter = utils.AttnLabelConverter(scatter_opt.character)\n",
    "scatter_opt.num_classes = len(converter.character)\n",
    "device = torch.device('cpu')"
   ]
  },
  {
   "cell_type": "code",
   "execution_count": null,
   "metadata": {
    "scrolled": true
   },
   "outputs": [],
   "source": [
    "model = scatter_model.SCATTER(scatter_opt, device)\n",
    "test= torch.FloatTensor(1,3,35, 200)"
   ]
  },
  {
   "cell_type": "code",
   "execution_count": null,
   "metadata": {},
   "outputs": [],
   "source": [
    "output = model.Extract(test)"
   ]
  },
  {
   "cell_type": "code",
   "execution_count": null,
   "metadata": {},
   "outputs": [],
   "source": [
    "output.shape"
   ]
  },
  {
   "cell_type": "code",
   "execution_count": null,
   "metadata": {},
   "outputs": [],
   "source": [
    "files_word['id'] = files_word['file_name'].apply(lambda x : x.replace('.png',''))\n",
    "files_labels = pd.merge(files_word, label_hand_annot, how='left', left_on='id',right_on='id' )"
   ]
  },
  {
   "cell_type": "code",
   "execution_count": null,
   "metadata": {},
   "outputs": [],
   "source": [
    "one_word = [x for x in label_hand_annot['text'] if len(x)==1]"
   ]
  },
  {
   "cell_type": "code",
   "execution_count": null,
   "metadata": {},
   "outputs": [],
   "source": [
    "len(one_word)"
   ]
  },
  {
   "cell_type": "code",
   "execution_count": null,
   "metadata": {
    "scrolled": false
   },
   "outputs": [],
   "source": [
    "preds = model(img, text_onehot[:, :-1], is_train=False)"
   ]
  },
  {
   "cell_type": "code",
   "execution_count": null,
   "metadata": {},
   "outputs": [],
   "source": [
    "Image.fromarray(tensor2im(img[0]))"
   ]
  },
  {
   "cell_type": "code",
   "execution_count": null,
   "metadata": {},
   "outputs": [],
   "source": [
    "import importlib\n",
    "importlib.reload(ko_dataset)"
   ]
  },
  {
   "cell_type": "code",
   "execution_count": null,
   "metadata": {
    "scrolled": true
   },
   "outputs": [],
   "source": [
    "# KOREAN\n",
    "data=[]\n",
    "# ko_hand = ko_dataset.hand_dataset(num_samples = 10000, mode = 'syllable')\n",
    "ko_public = ko_dataset.public_crop(mode = 'jamo')\n",
    "# ko_synthetic = ko_dataset.korean_synthetic( mode='jamo', need_samples=1000)\n",
    "# ko_synthetic_long = ko_dataset.korean_synthetic_long( mode='jamo', need_samples=1000)\n",
    "# ENGLISH \n",
    "# eng_dataset = en_dataset.get_english_dataset(mode='jamo')\n",
    "# eng_synthetic = en_dataset.en_synthetic(mode='jamo', need_samples=10000) #0 for all"
   ]
  },
  {
   "cell_type": "code",
   "execution_count": null,
   "metadata": {},
   "outputs": [],
   "source": [
    "# data.extend(ko_hand.dataset)\n",
    "# data.extend(ko_public.dataset)\n",
    "# data.extend(ko_synthetic.dataset)\n",
    "data.extend(eng_dataset)\n",
    "# data.extend(eng_synthetic.dataset)\n",
    "random.shuffle(data)"
   ]
  },
  {
   "cell_type": "code",
   "execution_count": 7,
   "metadata": {
    "collapsed": true
   },
   "outputs": [
    {
     "ename": "NameError",
     "evalue": "name 'data' is not defined",
     "output_type": "error",
     "traceback": [
      "\u001b[0;31m---------------------------------------------------------------------------\u001b[0m",
      "\u001b[0;31mNameError\u001b[0m                                 Traceback (most recent call last)",
      "\u001b[0;32m<ipython-input-7-3c41a985e15e>\u001b[0m in \u001b[0;36m<module>\u001b[0;34m\u001b[0m\n\u001b[1;32m      5\u001b[0m \u001b[0;31m#                        ])\u001b[0m\u001b[0;34m\u001b[0m\u001b[0;34m\u001b[0m\u001b[0;34m\u001b[0m\u001b[0m\n\u001b[1;32m      6\u001b[0m \u001b[0;34m\u001b[0m\u001b[0m\n\u001b[0;32m----> 7\u001b[0;31m \u001b[0mstream\u001b[0m \u001b[0;34m=\u001b[0m \u001b[0mutils\u001b[0m\u001b[0;34m.\u001b[0m\u001b[0mCustomDataset_jamo\u001b[0m\u001b[0;34m(\u001b[0m\u001b[0mdata\u001b[0m\u001b[0;34m,\u001b[0m \u001b[0mresize_shape\u001b[0m\u001b[0;34m=\u001b[0m \u001b[0;34m(\u001b[0m\u001b[0mopt\u001b[0m\u001b[0;34m.\u001b[0m\u001b[0mimgH\u001b[0m\u001b[0;34m,\u001b[0m \u001b[0mopt\u001b[0m\u001b[0;34m.\u001b[0m\u001b[0mimgW\u001b[0m\u001b[0;34m)\u001b[0m\u001b[0;34m,\u001b[0m \u001b[0mtransformer\u001b[0m\u001b[0;34m=\u001b[0m\u001b[0mToTensor\u001b[0m\u001b[0;34m(\u001b[0m\u001b[0;34m)\u001b[0m\u001b[0;34m)\u001b[0m\u001b[0;34m\u001b[0m\u001b[0;34m\u001b[0m\u001b[0m\n\u001b[0m\u001b[1;32m      8\u001b[0m \u001b[0mloader\u001b[0m \u001b[0;34m=\u001b[0m \u001b[0mDataLoader\u001b[0m\u001b[0;34m(\u001b[0m\u001b[0mstream\u001b[0m\u001b[0;34m,\u001b[0m \u001b[0mbatch_size\u001b[0m \u001b[0;34m=\u001b[0m \u001b[0;36m10\u001b[0m\u001b[0;34m,\u001b[0m \u001b[0mshuffle\u001b[0m\u001b[0;34m=\u001b[0m\u001b[0;32mTrue\u001b[0m\u001b[0;34m,\u001b[0m \u001b[0mnum_workers\u001b[0m\u001b[0;34m=\u001b[0m\u001b[0;36m0\u001b[0m \u001b[0;34m)\u001b[0m\u001b[0;34m\u001b[0m\u001b[0;34m\u001b[0m\u001b[0m\n\u001b[1;32m      9\u001b[0m \u001b[0miterer\u001b[0m \u001b[0;34m=\u001b[0m \u001b[0miter\u001b[0m\u001b[0;34m(\u001b[0m\u001b[0mloader\u001b[0m\u001b[0;34m)\u001b[0m\u001b[0;34m\u001b[0m\u001b[0;34m\u001b[0m\u001b[0m\n",
      "\u001b[0;31mNameError\u001b[0m: name 'data' is not defined"
     ]
    }
   ],
   "source": [
    "# transformers = Compose([augs.GridMask(num_grid=(20,60), p=1), \n",
    "#                             OneOf([\n",
    "#                                 IAAAdditiveGaussianNoise(),\n",
    "#                                 GaussNoise()], p=1 )\n",
    "#                        ])\n",
    "\n",
    "stream = utils.CustomDataset_jamo(data, resize_shape= (opt.imgH, opt.imgW), transformer=ToTensor())\n",
    "loader = DataLoader(stream, batch_size = 10, shuffle=True, num_workers=0 )\n",
    "iterer = iter(loader)"
   ]
  },
  {
   "cell_type": "code",
   "execution_count": 257,
   "metadata": {
    "scrolled": true
   },
   "outputs": [
    {
     "name": "stdout",
     "output_type": "stream",
     "text": [
      "eval\n"
     ]
    }
   ],
   "source": [
    "# opt.pred = 'arcface'\n",
    "opt.pred = ''\n",
    "# model = www_model_jamo_vertical_arcface_nosoftmax_normalize.STR(opt, device)\n",
    "# model = www_model_jamo_vertical_arcface_nosoftmax.STR(opt, device)\n",
    "# model = www_model_jamo_vertical_arcface.STR(opt, device)\n",
    "model = www_model_jamo_vertical.STR(opt, device)\n",
    "# model = www_model_jamo.STR(opt, device)\n",
    "# model.load_state_dict(torch.load('./models/www_jamo_0715/7/best_accuracy.pth')) # 손글씨+옜글씨 추가하기전 베스트 모델\n",
    "# model.load_state_dict(torch.load('./models/www_jamo_vertical_arcface_nosoftmax_0729/2/best_accuracy.pth')) #augmentation 비율 올리기전 베스트 모델 96.5\n",
    "model.load_state_dict(torch.load('./models/www_jamo_vertical_0731/0/best_accuracy_96.3.pth'))\n",
    "model.eval()\n",
    "print('eval')"
   ]
  },
  {
   "cell_type": "code",
   "execution_count": 258,
   "metadata": {
    "scrolled": false
   },
   "outputs": [],
   "source": [
    "# for val files\n",
    "\n",
    "base_path = '/Data/FoodDetection/AI_OCR/val'\n",
    "# base_path = '/Data/KoreanSTR/Combined_OCR_Data/For_Recognition'\n",
    "files = os.listdir(base_path)\n",
    "val_data =[]\n",
    "for file in files:\n",
    "    val_data.append([os.path.join(base_path, file), ' ', ' ', ' '])\n",
    "# stream = utils.CustomDataset_jamo(val_data, resize_shape= (35, 350), transformer=ToTensor())\n",
    "stream = utils.CustomDataset_jamo(val_data, resize_shape= (opt.imgH, opt.imgW), transformer=ToTensor())\n",
    "loader = DataLoader(stream, batch_size = 50, shuffle=False, num_workers=0 )\n",
    "iterer = iter(loader)"
   ]
  },
  {
   "cell_type": "code",
   "execution_count": 259,
   "metadata": {
    "scrolled": true
   },
   "outputs": [],
   "source": [
    "img, label_top, label_mid, label_bot = next(iterer)\n",
    "# converter = utils.AttnLabelConverter(opt.character)\n",
    "\n",
    "# text, length = converter.encode(label, opt.batch_max_length)\n",
    "text_top, length_top = top_converter.encode(label_top, opt.batch_max_length)\n",
    "text_mid, length_mid = middle_converter.encode(label_mid, opt.batch_max_length)\n",
    "text_bot, length_bot = bottom_converter.encode(label_bot, opt.batch_max_length)\n",
    "batch_size = img.size(0)\n",
    "\n",
    "# onehot = torch.FloatTensor(batch_size, opt.batch_max_length+2, len(opt.character)+2).zero_().to(device)\n",
    "# text_onehot = onehot.scatter(dim = 2, index = text.unsqueeze(2).to(device), value = 1 ) #(bs, batch_max_length, num_characters)\n",
    "\n",
    "# inference\n",
    "pred_top, pred_mid, pred_bot = model(img, torch.FloatTensor(batch_size,27), text_mid, text_bot, is_train=False)\n",
    "# pred_top, pred_mid, pred_bot, _, _, _ = model(img, torch.FloatTensor(batch_size,27), text_mid, text_bot, is_train=False)\n",
    "_, pred_top_index = pred_top.max(2)\n",
    "_, pred_mid_index = pred_mid.max(2)\n",
    "_, pred_bot_index = pred_bot.max(2)\n",
    "idx_iter = iter(range(batch_size))"
   ]
  },
  {
   "cell_type": "code",
   "execution_count": 303,
   "metadata": {},
   "outputs": [
    {
     "name": "stdout",
     "output_type": "stream",
     "text": [
      "THABLAND\n"
     ]
    },
    {
     "data": {
      "image/png": "[encoded data removed]",
      "text/plain": [
       "<PIL.Image.Image image mode=RGB size=250x35 at 0x7FA4BECD4780>"
      ]
     },
     "execution_count": 303,
     "metadata": {},
     "output_type": "execute_result"
    }
   ],
   "source": [
    "idx = next(idx_iter)\n",
    "decode_top = top_converter.decode(pred_top_index, torch.FloatTensor(batch_size, opt.batch_max_length +1, opt.top_n_cls+2))[idx]\n",
    "decode_mid = middle_converter.decode(pred_mid_index, torch.FloatTensor(batch_size, opt.batch_max_length +1, opt.middle_n_cls+2))[idx]\n",
    "decode_bot = bottom_converter.decode(pred_bot_index, torch.FloatTensor(batch_size, opt.batch_max_length +1, opt.bottom_n_cls+2))[idx]\n",
    "print(utils.str_combine(decode_top, decode_mid, decode_bot))\n",
    "Image.fromarray(tensor2im(img[idx]))"
   ]
  },
  {
   "cell_type": "markdown",
   "metadata": {},
   "source": [
    "---------"
   ]
  },
  {
   "cell_type": "code",
   "execution_count": null,
   "metadata": {},
   "outputs": [],
   "source": [
    "data_files = os.listdir('/Data/KoreanSTR/Combined_OCR_Data/For_Recognition')\n",
    "base = '/Data/KoreanSTR/Combined_OCR_Data/For_Recognition'\n",
    "\n",
    "data = []\n",
    "for file in data_files :\n",
    "    file_path = os.path.join(base, file)\n",
    "    data.append([file_path, 'label'])"
   ]
  },
  {
   "cell_type": "code",
   "execution_count": null,
   "metadata": {},
   "outputs": [],
   "source": [
    "onehot = torch.FloatTensor(10, opt.batch_max_length+2, len(opt.character)+2).zero_().to('cpu')"
   ]
  },
  {
   "cell_type": "code",
   "execution_count": null,
   "metadata": {},
   "outputs": [],
   "source": [
    "label_orig = onehot.scatter(dim = 2, index = text.unsqueeze(2).to('cpu'), value = 1)"
   ]
  },
  {
   "cell_type": "code",
   "execution_count": null,
   "metadata": {},
   "outputs": [],
   "source": [
    "label_shuffle = onehot.scatter(dim = 2, index = label_[1].unsqueeze(2).to('cpu'), value = 1 *(1-lam))"
   ]
  },
  {
   "cell_type": "code",
   "execution_count": null,
   "metadata": {},
   "outputs": [],
   "source": [
    "label_sum = label_orig + label_shuffle"
   ]
  },
  {
   "cell_type": "code",
   "execution_count": null,
   "metadata": {
    "scrolled": false
   },
   "outputs": [],
   "source": [
    "label_sum.shape"
   ]
  },
  {
   "cell_type": "code",
   "execution_count": null,
   "metadata": {},
   "outputs": [],
   "source": [
    "label_sum[:, :-1].shape"
   ]
  },
  {
   "cell_type": "markdown",
   "metadata": {},
   "source": [
    "------------"
   ]
  },
  {
   "cell_type": "code",
   "execution_count": 10,
   "metadata": {},
   "outputs": [],
   "source": [
    "import matplotlib.font_manager as fm\n",
    "fm.get_fontconfig_fonts()\n",
    "font_location = '/usr/share/fonts/truetype/nanum/NanumBarunGothic.ttf'\n",
    "fontprop = fm.FontProperties(fname=font_location)\n",
    "device = torch.device('cpu') \n",
    "\n",
    "class Valid_visualizer():\n",
    "    def __init__(self, opt, model_path, val_path, visual_samples, device):\n",
    "        self.opt = opt\n",
    "        self.model_path = model_path\n",
    "        self.val_path = val_path\n",
    "        self.dataset = self._get_dataset()\n",
    "        self.visual_samples = visual_samples\n",
    "        self.device = device\n",
    "        \n",
    "    def _load_model(self):\n",
    "        model = www_model.STR(self.opt, self.device)\n",
    "        model.load_state_dict(torch.load(self.model_path))\n",
    "        model.to(self.device)\n",
    "        model.eval()\n",
    "        return model\n",
    "    \n",
    "    def _get_dataset(self):\n",
    "        val_list = os.listdir(self.val_path)\n",
    "        val_dataset = []\n",
    "        label = 'ㄱ'\n",
    "        for val in val_list:\n",
    "#             img = Image.open(f'./val/{val}').convert('RGB')\n",
    "            val_dataset.append([os.path.join(self.val_path, val), label])\n",
    "        return val_dataset\n",
    "    \n",
    "    def _get_valid_loader(self):\n",
    "\n",
    "        test_streamer = utils.Dataset_streamer(self.dataset, resize_shape = (opt.imgH, opt.imgW), transformer=ToTensor())\n",
    "#         _AlignCollate = utils.AlignCollate(imgH=self.opt.imgH, imgW=self.opt.imgW, keep_ratio_with_pad=True)\n",
    "#         test_loader = DataLoader(test_streamer, batch_size = len(self.dataset), num_workers =0, collate_fn = _AlignCollate,)\n",
    "        test_loader = DataLoader(test_streamer, batch_size = self.visual_samples, num_workers =0)\n",
    "        return iter(test_loader)\n",
    "    \n",
    "    \n",
    "    def valid_visualize(self):\n",
    "        random.shuffle(self.dataset)\n",
    "        test_loader_iter = self._get_valid_loader()\n",
    "        image_tensor, label = next(test_loader_iter)\n",
    "        model = self._load_model()\n",
    "        output = model(input = image_tensor, text= ' ', is_train=False)\n",
    "        pred_index = output.max(2)[1]\n",
    "        pred_length = torch.IntTensor([opt.batch_max_length] * self.visual_samples).to(device)\n",
    "        pred_decode = converter.decode(pred_index, pred_length)\n",
    "        preds = []\n",
    "        \n",
    "        for pred in pred_decode:\n",
    "            pred_temp = pred[ : pred.find('[s]')]\n",
    "        #             pred_temp = join_jamos(pred_temp)\n",
    "            preds.append(pred_temp)\n",
    "        \n",
    "        n_cols = 5\n",
    "        n_rows = int(np.ceil(self.visual_samples/n_cols))\n",
    "        last = self.visual_samples % n_cols\n",
    "        fig, axes = plt.subplots(n_rows, n_cols)\n",
    "        fig.set_size_inches((30, 30))\n",
    "        i=0      \n",
    "        for row in range(n_rows):\n",
    "            for col in range(n_cols):\n",
    "                axes[row][col].imshow(Image.open(self.dataset[i][0]))\n",
    "                axes[row][col].set_xlabel(f'Prediction : {preds[i]}', fontproperties=fontprop, fontsize=30)\n",
    "                i+=1\n",
    "                if (row==n_rows-1) & (col==last-1):\n",
    "                    break\n",
    "                "
   ]
  },
  {
   "cell_type": "code",
   "execution_count": null,
   "metadata": {
    "scrolled": true
   },
   "outputs": [],
   "source": [
    "vv = Valid_visualizer(opt, model_path = './models/www_vinyl_0710/1/best_accuracy.pth', val_path = './val', visual_samples = 22, device= device)"
   ]
  },
  {
   "cell_type": "code",
   "execution_count": null,
   "metadata": {
    "scrolled": false
   },
   "outputs": [],
   "source": [
    "vv.valid_visualize()"
   ]
  },
  {
   "cell_type": "markdown",
   "metadata": {},
   "source": [
    "-------------"
   ]
  },
  {
   "cell_type": "code",
   "execution_count": 2,
   "metadata": {},
   "outputs": [],
   "source": [
    "import pickle"
   ]
  },
  {
   "cell_type": "code",
   "execution_count": 3,
   "metadata": {},
   "outputs": [],
   "source": [
    "with open('dataset', 'rb') as file:\n",
    "    data = pickle.load(file)"
   ]
  },
  {
   "cell_type": "code",
   "execution_count": 4,
   "metadata": {},
   "outputs": [
    {
     "name": "stderr",
     "output_type": "stream",
     "text": [
      "100%|██████████| 7459679/7459679 [00:04<00:00, 1629269.62it/s]\n"
     ]
    }
   ],
   "source": [
    "top_cls_stat = []\n",
    "for top in tqdm(np.asarray(data)[:,1]):\n",
    "    top_cls_stat.extend(top)"
   ]
  },
  {
   "cell_type": "code",
   "execution_count": 122,
   "metadata": {},
   "outputs": [
    {
     "data": {
      "text/plain": [
       "50371900"
      ]
     },
     "execution_count": 122,
     "metadata": {},
     "output_type": "execute_result"
    }
   ],
   "source": [
    "top_cls_stat"
   ]
  },
  {
   "cell_type": "code",
   "execution_count": 51,
   "metadata": {},
   "outputs": [],
   "source": [
    "import pandas as pd\n",
    "def ClassCounter(data, position, converter):\n",
    "    if position =='top':\n",
    "        pos_idx = 1\n",
    "    elif position =='mid':\n",
    "        pos_idx = 2\n",
    "    elif position =='bot':\n",
    "        pos_idx = 3\n",
    "    \n",
    "    cls_stat = []\n",
    "    for label in np.asarray(data)[:,pos_idx]:\n",
    "        cls_stat.extend(label)\n",
    "    \n",
    "    cls_cnt = np.unique(cls_stat, return_counts=True)\n",
    "    cls_cnt = pd.DataFrame({'class' : cls_cnt[0], 'count' : cls_cnt[1]})\n",
    "    \n",
    "    cnt_dict = {}\n",
    "    for cls in converter.dict.keys():\n",
    "        n_cls = cls_cnt[cls_cnt['class'] == cls]['count'].get_values()\n",
    "        if len(n_cls)==0:\n",
    "            n_cls = [0]\n",
    "        cls_enc = converter.dict[cls]\n",
    "        cnt_dict[cls_enc] = n_cls[0]\n",
    "        \n",
    "    return cnt_dict"
   ]
  },
  {
   "cell_type": "code",
   "execution_count": 52,
   "metadata": {},
   "outputs": [],
   "source": [
    "top_cls_cnt = ClassCounter(data, position='top', converter=top_converter)"
   ]
  },
  {
   "cell_type": "code",
   "execution_count": 53,
   "metadata": {
    "collapsed": true
   },
   "outputs": [
    {
     "data": {
      "text/plain": [
       "{0: 0,\n",
       " 1: 0,\n",
       " 2: 34,\n",
       " 3: 12758,\n",
       " 4: 28331,\n",
       " 5: 108,\n",
       " 6: 11,\n",
       " 7: 315,\n",
       " 8: 4864,\n",
       " 9: 10428,\n",
       " 10: 78428,\n",
       " 11: 40935,\n",
       " 12: 693,\n",
       " 13: 794,\n",
       " 14: 51828,\n",
       " 15: 8120,\n",
       " 16: 78074,\n",
       " 17: 305,\n",
       " 18: 187208,\n",
       " 19: 2584,\n",
       " 20: 100,\n",
       " 21: 293,\n",
       " 22: 200,\n",
       " 23: 6511,\n",
       " 24: 105,\n",
       " 25: 102,\n",
       " 26: 1,\n",
       " 27: 102,\n",
       " 28: 2424,\n",
       " 29: 500,\n",
       " 30: 1,\n",
       " 31: 0,\n",
       " 32: 3446,\n",
       " 33: 0,\n",
       " 34: 10503,\n",
       " 45: 70932,\n",
       " 36: 107408,\n",
       " 37: 60646,\n",
       " 38: 29766,\n",
       " 39: 24623,\n",
       " 40: 25461,\n",
       " 41: 27606,\n",
       " 42: 21927,\n",
       " 43: 27399,\n",
       " 44: 52860,\n",
       " 46: 1486244,\n",
       " 47: 329465,\n",
       " 48: 678840,\n",
       " 49: 669391,\n",
       " 50: 2189063,\n",
       " 51: 227065,\n",
       " 52: 550015,\n",
       " 53: 423303,\n",
       " 54: 1632994,\n",
       " 55: 34668,\n",
       " 56: 192963,\n",
       " 57: 996824,\n",
       " 58: 480667,\n",
       " 59: 1368117,\n",
       " 60: 1171390,\n",
       " 61: 465157,\n",
       " 62: 31625,\n",
       " 63: 1351095,\n",
       " 64: 1579879,\n",
       " 65: 1241186,\n",
       " 66: 624868,\n",
       " 67: 185848,\n",
       " 68: 154444,\n",
       " 69: 57700,\n",
       " 70: 309394,\n",
       " 71: 87745,\n",
       " 72: 807010,\n",
       " 73: 269985,\n",
       " 74: 495626,\n",
       " 75: 429067,\n",
       " 76: 1112156,\n",
       " 77: 184924,\n",
       " 78: 324383,\n",
       " 79: 267013,\n",
       " 80: 838511,\n",
       " 81: 37759,\n",
       " 82: 113354,\n",
       " 83: 532146,\n",
       " 84: 324733,\n",
       " 85: 680229,\n",
       " 86: 597863,\n",
       " 87: 353510,\n",
       " 88: 24201,\n",
       " 89: 744802,\n",
       " 90: 954075,\n",
       " 91: 675205,\n",
       " 92: 342788,\n",
       " 93: 115731,\n",
       " 94: 124840,\n",
       " 95: 29069,\n",
       " 96: 154259,\n",
       " 97: 46201,\n",
       " 98: 2193688,\n",
       " 99: 790687,\n",
       " 100: 1604220,\n",
       " 101: 1371860,\n",
       " 102: 946394,\n",
       " 103: 1311618,\n",
       " 104: 2491181,\n",
       " 105: 3842302,\n",
       " 106: 1828937,\n",
       " 107: 632166,\n",
       " 108: 405424,\n",
       " 109: 631870,\n",
       " 110: 479670,\n",
       " 111: 1434743,\n",
       " 112: 84663,\n",
       " 113: 64865,\n",
       " 114: 25443,\n",
       " 115: 100878,\n",
       " 116: 53167}"
      ]
     },
     "execution_count": 53,
     "metadata": {},
     "output_type": "execute_result"
    }
   ],
   "source": [
    "top_cls_cnt"
   ]
  },
  {
   "cell_type": "code",
   "execution_count": 5,
   "metadata": {},
   "outputs": [],
   "source": [
    "top_cls_cnt = np.unique(top_cls_stat, return_counts=True)"
   ]
  },
  {
   "cell_type": "code",
   "execution_count": 6,
   "metadata": {},
   "outputs": [],
   "source": [
    "top_cls_cnt = pd.DataFrame({'class' : top_cls_cnt[0], 'count' : top_cls_cnt[1]})"
   ]
  },
  {
   "cell_type": "code",
   "execution_count": 23,
   "metadata": {
    "collapsed": true
   },
   "outputs": [
    {
     "data": {
      "text/plain": [
       "{'[GO]': 0,\n",
       " '[s]': 1,\n",
       " ' ': 2,\n",
       " '!': 3,\n",
       " '\"': 4,\n",
       " '#': 5,\n",
       " '$': 6,\n",
       " '%': 7,\n",
       " '&': 8,\n",
       " \"'\": 9,\n",
       " '(': 10,\n",
       " ')': 11,\n",
       " '*': 12,\n",
       " '+': 13,\n",
       " ',': 14,\n",
       " '-': 15,\n",
       " '.': 16,\n",
       " '/': 17,\n",
       " ':': 18,\n",
       " ';': 19,\n",
       " '<': 20,\n",
       " '=': 21,\n",
       " '>': 22,\n",
       " '?': 23,\n",
       " '@': 24,\n",
       " '[': 25,\n",
       " '\\\\': 26,\n",
       " ']': 27,\n",
       " '^': 28,\n",
       " '_': 29,\n",
       " '`': 30,\n",
       " '{': 31,\n",
       " '|': 32,\n",
       " '}': 33,\n",
       " '~': 34,\n",
       " '0': 45,\n",
       " '1': 36,\n",
       " '2': 37,\n",
       " '3': 38,\n",
       " '4': 39,\n",
       " '5': 40,\n",
       " '6': 41,\n",
       " '7': 42,\n",
       " '8': 43,\n",
       " '9': 44,\n",
       " 'a': 46,\n",
       " 'b': 47,\n",
       " 'c': 48,\n",
       " 'd': 49,\n",
       " 'e': 50,\n",
       " 'f': 51,\n",
       " 'g': 52,\n",
       " 'h': 53,\n",
       " 'i': 54,\n",
       " 'j': 55,\n",
       " 'k': 56,\n",
       " 'l': 57,\n",
       " 'm': 58,\n",
       " 'n': 59,\n",
       " 'o': 60,\n",
       " 'p': 61,\n",
       " 'q': 62,\n",
       " 'r': 63,\n",
       " 's': 64,\n",
       " 't': 65,\n",
       " 'u': 66,\n",
       " 'v': 67,\n",
       " 'w': 68,\n",
       " 'x': 69,\n",
       " 'y': 70,\n",
       " 'z': 71,\n",
       " 'A': 72,\n",
       " 'B': 73,\n",
       " 'C': 74,\n",
       " 'D': 75,\n",
       " 'E': 76,\n",
       " 'F': 77,\n",
       " 'G': 78,\n",
       " 'H': 79,\n",
       " 'I': 80,\n",
       " 'J': 81,\n",
       " 'K': 82,\n",
       " 'L': 83,\n",
       " 'M': 84,\n",
       " 'N': 85,\n",
       " 'O': 86,\n",
       " 'P': 87,\n",
       " 'Q': 88,\n",
       " 'R': 89,\n",
       " 'S': 90,\n",
       " 'T': 91,\n",
       " 'U': 92,\n",
       " 'V': 93,\n",
       " 'W': 94,\n",
       " 'X': 95,\n",
       " 'Y': 96,\n",
       " 'Z': 97,\n",
       " 'ㄱ': 98,\n",
       " 'ㄴ': 99,\n",
       " 'ㄷ': 100,\n",
       " 'ㄹ': 101,\n",
       " 'ㅁ': 102,\n",
       " 'ㅂ': 103,\n",
       " 'ㅅ': 104,\n",
       " 'ㅇ': 105,\n",
       " 'ㅈ': 106,\n",
       " 'ㅊ': 107,\n",
       " 'ㅋ': 108,\n",
       " 'ㅌ': 109,\n",
       " 'ㅍ': 110,\n",
       " 'ㅎ': 111,\n",
       " 'ㄲ': 112,\n",
       " 'ㄸ': 113,\n",
       " 'ㅃ': 114,\n",
       " 'ㅆ': 115,\n",
       " 'ㅉ': 116}"
      ]
     },
     "execution_count": 23,
     "metadata": {},
     "output_type": "execute_result"
    }
   ],
   "source": [
    "top_converter.dict"
   ]
  },
  {
   "cell_type": "code",
   "execution_count": 26,
   "metadata": {
    "scrolled": true
   },
   "outputs": [
    {
     "data": {
      "text/html": [
       "<div>\n",
       "<style scoped>\n",
       "    .dataframe tbody tr th:only-of-type {\n",
       "        vertical-align: middle;\n",
       "    }\n",
       "\n",
       "    .dataframe tbody tr th {\n",
       "        vertical-align: top;\n",
       "    }\n",
       "\n",
       "    .dataframe thead th {\n",
       "        text-align: right;\n",
       "    }\n",
       "</style>\n",
       "<table border=\"1\" class=\"dataframe\">\n",
       "  <thead>\n",
       "    <tr style=\"text-align: right;\">\n",
       "      <th></th>\n",
       "      <th>class</th>\n",
       "      <th>count</th>\n",
       "    </tr>\n",
       "  </thead>\n",
       "  <tbody>\n",
       "    <tr>\n",
       "      <th>0</th>\n",
       "      <td></td>\n",
       "      <td>34</td>\n",
       "    </tr>\n",
       "    <tr>\n",
       "      <th>1</th>\n",
       "      <td>!</td>\n",
       "      <td>12758</td>\n",
       "    </tr>\n",
       "    <tr>\n",
       "      <th>2</th>\n",
       "      <td>\"</td>\n",
       "      <td>28331</td>\n",
       "    </tr>\n",
       "    <tr>\n",
       "      <th>3</th>\n",
       "      <td>#</td>\n",
       "      <td>108</td>\n",
       "    </tr>\n",
       "    <tr>\n",
       "      <th>4</th>\n",
       "      <td>$</td>\n",
       "      <td>11</td>\n",
       "    </tr>\n",
       "    <tr>\n",
       "      <th>5</th>\n",
       "      <td>%</td>\n",
       "      <td>315</td>\n",
       "    </tr>\n",
       "    <tr>\n",
       "      <th>6</th>\n",
       "      <td>&amp;</td>\n",
       "      <td>4864</td>\n",
       "    </tr>\n",
       "    <tr>\n",
       "      <th>7</th>\n",
       "      <td>'</td>\n",
       "      <td>10428</td>\n",
       "    </tr>\n",
       "    <tr>\n",
       "      <th>8</th>\n",
       "      <td>(</td>\n",
       "      <td>78428</td>\n",
       "    </tr>\n",
       "    <tr>\n",
       "      <th>9</th>\n",
       "      <td>)</td>\n",
       "      <td>40935</td>\n",
       "    </tr>\n",
       "    <tr>\n",
       "      <th>10</th>\n",
       "      <td>*</td>\n",
       "      <td>693</td>\n",
       "    </tr>\n",
       "    <tr>\n",
       "      <th>11</th>\n",
       "      <td>+</td>\n",
       "      <td>794</td>\n",
       "    </tr>\n",
       "    <tr>\n",
       "      <th>12</th>\n",
       "      <td>,</td>\n",
       "      <td>51828</td>\n",
       "    </tr>\n",
       "    <tr>\n",
       "      <th>13</th>\n",
       "      <td>-</td>\n",
       "      <td>8120</td>\n",
       "    </tr>\n",
       "    <tr>\n",
       "      <th>14</th>\n",
       "      <td>.</td>\n",
       "      <td>78074</td>\n",
       "    </tr>\n",
       "    <tr>\n",
       "      <th>15</th>\n",
       "      <td>/</td>\n",
       "      <td>305</td>\n",
       "    </tr>\n",
       "    <tr>\n",
       "      <th>16</th>\n",
       "      <td>0</td>\n",
       "      <td>70932</td>\n",
       "    </tr>\n",
       "    <tr>\n",
       "      <th>17</th>\n",
       "      <td>1</td>\n",
       "      <td>107408</td>\n",
       "    </tr>\n",
       "    <tr>\n",
       "      <th>18</th>\n",
       "      <td>2</td>\n",
       "      <td>60646</td>\n",
       "    </tr>\n",
       "    <tr>\n",
       "      <th>19</th>\n",
       "      <td>3</td>\n",
       "      <td>29766</td>\n",
       "    </tr>\n",
       "    <tr>\n",
       "      <th>20</th>\n",
       "      <td>4</td>\n",
       "      <td>24623</td>\n",
       "    </tr>\n",
       "    <tr>\n",
       "      <th>21</th>\n",
       "      <td>5</td>\n",
       "      <td>25461</td>\n",
       "    </tr>\n",
       "    <tr>\n",
       "      <th>22</th>\n",
       "      <td>6</td>\n",
       "      <td>27606</td>\n",
       "    </tr>\n",
       "    <tr>\n",
       "      <th>23</th>\n",
       "      <td>7</td>\n",
       "      <td>21927</td>\n",
       "    </tr>\n",
       "    <tr>\n",
       "      <th>24</th>\n",
       "      <td>8</td>\n",
       "      <td>27399</td>\n",
       "    </tr>\n",
       "    <tr>\n",
       "      <th>25</th>\n",
       "      <td>9</td>\n",
       "      <td>52860</td>\n",
       "    </tr>\n",
       "    <tr>\n",
       "      <th>26</th>\n",
       "      <td>:</td>\n",
       "      <td>187208</td>\n",
       "    </tr>\n",
       "    <tr>\n",
       "      <th>27</th>\n",
       "      <td>;</td>\n",
       "      <td>2584</td>\n",
       "    </tr>\n",
       "    <tr>\n",
       "      <th>28</th>\n",
       "      <td>&lt;</td>\n",
       "      <td>100</td>\n",
       "    </tr>\n",
       "    <tr>\n",
       "      <th>29</th>\n",
       "      <td>=</td>\n",
       "      <td>293</td>\n",
       "    </tr>\n",
       "    <tr>\n",
       "      <th>...</th>\n",
       "      <td>...</td>\n",
       "      <td>...</td>\n",
       "    </tr>\n",
       "    <tr>\n",
       "      <th>82</th>\n",
       "      <td>r</td>\n",
       "      <td>1351095</td>\n",
       "    </tr>\n",
       "    <tr>\n",
       "      <th>83</th>\n",
       "      <td>s</td>\n",
       "      <td>1579879</td>\n",
       "    </tr>\n",
       "    <tr>\n",
       "      <th>84</th>\n",
       "      <td>t</td>\n",
       "      <td>1241186</td>\n",
       "    </tr>\n",
       "    <tr>\n",
       "      <th>85</th>\n",
       "      <td>u</td>\n",
       "      <td>624868</td>\n",
       "    </tr>\n",
       "    <tr>\n",
       "      <th>86</th>\n",
       "      <td>v</td>\n",
       "      <td>185848</td>\n",
       "    </tr>\n",
       "    <tr>\n",
       "      <th>87</th>\n",
       "      <td>w</td>\n",
       "      <td>154444</td>\n",
       "    </tr>\n",
       "    <tr>\n",
       "      <th>88</th>\n",
       "      <td>x</td>\n",
       "      <td>57700</td>\n",
       "    </tr>\n",
       "    <tr>\n",
       "      <th>89</th>\n",
       "      <td>y</td>\n",
       "      <td>309394</td>\n",
       "    </tr>\n",
       "    <tr>\n",
       "      <th>90</th>\n",
       "      <td>z</td>\n",
       "      <td>87745</td>\n",
       "    </tr>\n",
       "    <tr>\n",
       "      <th>91</th>\n",
       "      <td>|</td>\n",
       "      <td>3446</td>\n",
       "    </tr>\n",
       "    <tr>\n",
       "      <th>92</th>\n",
       "      <td>~</td>\n",
       "      <td>10503</td>\n",
       "    </tr>\n",
       "    <tr>\n",
       "      <th>93</th>\n",
       "      <td>ㄱ</td>\n",
       "      <td>2193688</td>\n",
       "    </tr>\n",
       "    <tr>\n",
       "      <th>94</th>\n",
       "      <td>ㄲ</td>\n",
       "      <td>84663</td>\n",
       "    </tr>\n",
       "    <tr>\n",
       "      <th>95</th>\n",
       "      <td>ㄴ</td>\n",
       "      <td>790687</td>\n",
       "    </tr>\n",
       "    <tr>\n",
       "      <th>96</th>\n",
       "      <td>ㄷ</td>\n",
       "      <td>1604220</td>\n",
       "    </tr>\n",
       "    <tr>\n",
       "      <th>97</th>\n",
       "      <td>ㄸ</td>\n",
       "      <td>64865</td>\n",
       "    </tr>\n",
       "    <tr>\n",
       "      <th>98</th>\n",
       "      <td>ㄹ</td>\n",
       "      <td>1371860</td>\n",
       "    </tr>\n",
       "    <tr>\n",
       "      <th>99</th>\n",
       "      <td>ㅁ</td>\n",
       "      <td>946394</td>\n",
       "    </tr>\n",
       "    <tr>\n",
       "      <th>100</th>\n",
       "      <td>ㅂ</td>\n",
       "      <td>1311618</td>\n",
       "    </tr>\n",
       "    <tr>\n",
       "      <th>101</th>\n",
       "      <td>ㅃ</td>\n",
       "      <td>25443</td>\n",
       "    </tr>\n",
       "    <tr>\n",
       "      <th>102</th>\n",
       "      <td>ㅅ</td>\n",
       "      <td>2491181</td>\n",
       "    </tr>\n",
       "    <tr>\n",
       "      <th>103</th>\n",
       "      <td>ㅆ</td>\n",
       "      <td>100878</td>\n",
       "    </tr>\n",
       "    <tr>\n",
       "      <th>104</th>\n",
       "      <td>ㅇ</td>\n",
       "      <td>3842302</td>\n",
       "    </tr>\n",
       "    <tr>\n",
       "      <th>105</th>\n",
       "      <td>ㅈ</td>\n",
       "      <td>1828937</td>\n",
       "    </tr>\n",
       "    <tr>\n",
       "      <th>106</th>\n",
       "      <td>ㅉ</td>\n",
       "      <td>53167</td>\n",
       "    </tr>\n",
       "    <tr>\n",
       "      <th>107</th>\n",
       "      <td>ㅊ</td>\n",
       "      <td>632166</td>\n",
       "    </tr>\n",
       "    <tr>\n",
       "      <th>108</th>\n",
       "      <td>ㅋ</td>\n",
       "      <td>405424</td>\n",
       "    </tr>\n",
       "    <tr>\n",
       "      <th>109</th>\n",
       "      <td>ㅌ</td>\n",
       "      <td>631870</td>\n",
       "    </tr>\n",
       "    <tr>\n",
       "      <th>110</th>\n",
       "      <td>ㅍ</td>\n",
       "      <td>479670</td>\n",
       "    </tr>\n",
       "    <tr>\n",
       "      <th>111</th>\n",
       "      <td>ㅎ</td>\n",
       "      <td>1434743</td>\n",
       "    </tr>\n",
       "  </tbody>\n",
       "</table>\n",
       "<p>112 rows × 2 columns</p>\n",
       "</div>"
      ],
      "text/plain": [
       "    class    count\n",
       "0               34\n",
       "1       !    12758\n",
       "2       \"    28331\n",
       "3       #      108\n",
       "4       $       11\n",
       "5       %      315\n",
       "6       &     4864\n",
       "7       '    10428\n",
       "8       (    78428\n",
       "9       )    40935\n",
       "10      *      693\n",
       "11      +      794\n",
       "12      ,    51828\n",
       "13      -     8120\n",
       "14      .    78074\n",
       "15      /      305\n",
       "16      0    70932\n",
       "17      1   107408\n",
       "18      2    60646\n",
       "19      3    29766\n",
       "20      4    24623\n",
       "21      5    25461\n",
       "22      6    27606\n",
       "23      7    21927\n",
       "24      8    27399\n",
       "25      9    52860\n",
       "26      :   187208\n",
       "27      ;     2584\n",
       "28      <      100\n",
       "29      =      293\n",
       "..    ...      ...\n",
       "82      r  1351095\n",
       "83      s  1579879\n",
       "84      t  1241186\n",
       "85      u   624868\n",
       "86      v   185848\n",
       "87      w   154444\n",
       "88      x    57700\n",
       "89      y   309394\n",
       "90      z    87745\n",
       "91      |     3446\n",
       "92      ~    10503\n",
       "93      ㄱ  2193688\n",
       "94      ㄲ    84663\n",
       "95      ㄴ   790687\n",
       "96      ㄷ  1604220\n",
       "97      ㄸ    64865\n",
       "98      ㄹ  1371860\n",
       "99      ㅁ   946394\n",
       "100     ㅂ  1311618\n",
       "101     ㅃ    25443\n",
       "102     ㅅ  2491181\n",
       "103     ㅆ   100878\n",
       "104     ㅇ  3842302\n",
       "105     ㅈ  1828937\n",
       "106     ㅉ    53167\n",
       "107     ㅊ   632166\n",
       "108     ㅋ   405424\n",
       "109     ㅌ   631870\n",
       "110     ㅍ   479670\n",
       "111     ㅎ  1434743\n",
       "\n",
       "[112 rows x 2 columns]"
      ]
     },
     "execution_count": 26,
     "metadata": {},
     "output_type": "execute_result"
    }
   ],
   "source": [
    "top_cls_cnt"
   ]
  },
  {
   "cell_type": "code",
   "execution_count": 7,
   "metadata": {},
   "outputs": [],
   "source": [
    "import matplotlib"
   ]
  },
  {
   "cell_type": "code",
   "execution_count": 18,
   "metadata": {
    "scrolled": true
   },
   "outputs": [],
   "source": [
    "fm.get_fontconfig_fonts()\n",
    "font_location = '/Data/fonts/NanumGothic.ttf'\n",
    "fontprop = fm.FontProperties(fname=font_location).get_name()\n",
    "plt.rcParams[\"font.family\"] = 'NanumGothic'\n",
    "matplotlib.rc('font', family=fontprop)\n",
    "plt.rcParams['axes.unicode_minus'] = False"
   ]
  },
  {
   "cell_type": "code",
   "execution_count": 19,
   "metadata": {
    "collapsed": true
   },
   "outputs": [
    {
     "data": {
      "text/plain": [
       "<matplotlib.collections.PathCollection at 0x7fbff5c75a58>"
      ]
     },
     "execution_count": 19,
     "metadata": {},
     "output_type": "execute_result"
    },
    {
     "data": {
      "image/png": "[encoded data removed]",
      "text/plain": [
       "<Figure size 1080x576 with 1 Axes>"
      ]
     },
     "metadata": {
      "needs_background": "light"
     },
     "output_type": "display_data"
    }
   ],
   "source": [
    "plt.rc('font', family=fontprop)\n",
    "plt.figure(figsize=(15,8))\n",
    "plt.scatter(x = top_cls_cnt['class'], y = top_cls_cnt['count'])"
   ]
  },
  {
   "cell_type": "code",
   "execution_count": null,
   "metadata": {},
   "outputs": [],
   "source": []
  }
 ],
 "metadata": {
  "kernelspec": {
   "display_name": "Python 3",
   "language": "python",
   "name": "python3"
  },
  "language_info": {
   "codemirror_mode": {
    "name": "ipython",
    "version": 3
   },
   "file_extension": ".py",
   "mimetype": "text/x-python",
   "name": "python",
   "nbconvert_exporter": "python",
   "pygments_lexer": "ipython3",
   "version": "3.6.7"
  }
 },
 "nbformat": 4,
 "nbformat_minor": 2
}
