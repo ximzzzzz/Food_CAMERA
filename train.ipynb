{
 "cells": [
  {
   "cell_type": "code",
   "execution_count": 1,
   "metadata": {
    "collapsed": true
   },
   "outputs": [
    {
     "name": "stdout",
     "output_type": "stream",
     "text": [
      "Looking in links: https://download.pytorch.org/whl/torch_stable.html\n",
      "Requirement already satisfied: torch==1.5.0+cu101 in /usr/local/lib/python3.6/dist-packages (1.5.0+cu101)\n",
      "Requirement already satisfied: torchvision==0.6.0+cu101 in /usr/local/lib/python3.6/dist-packages (0.6.0+cu101)\n",
      "Requirement already satisfied: future in /usr/local/lib/python3.6/dist-packages (from torch==1.5.0+cu101) (0.17.1)\n",
      "Requirement already satisfied: numpy in /usr/local/lib/python3.6/dist-packages (from torch==1.5.0+cu101) (1.16.3)\n",
      "Requirement already satisfied: pillow>=4.1.1 in /usr/local/lib/python3.6/dist-packages (from torchvision==0.6.0+cu101) (6.0.0)\n",
      "\u001b[33mWARNING: You are using pip version 19.1, however version 20.1.1 is available.\n",
      "You should consider upgrading via the 'pip install --upgrade pip' command.\u001b[0m\n"
     ]
    }
   ],
   "source": [
    "! pip install torch==1.5.0+cu101 torchvision==0.6.0+cu101 -f https://download.pytorch.org/whl/torch_stable.html"
   ]
  },
  {
   "cell_type": "code",
   "execution_count": 21,
   "metadata": {
    "collapsed": true
   },
   "outputs": [
    {
     "ename": "ValueError",
     "evalue": "filedescriptor out of range in select()",
     "output_type": "error",
     "traceback": [
      "\u001b[0;31m---------------------------------------------------------------------------\u001b[0m",
      "\u001b[0;31mValueError\u001b[0m                                Traceback (most recent call last)",
      "\u001b[0;32m<ipython-input-21-e421a74f1aca>\u001b[0m in \u001b[0;36m<module>\u001b[0;34m\u001b[0m\n\u001b[0;32m----> 1\u001b[0;31m \u001b[0mget_ipython\u001b[0m\u001b[0;34m(\u001b[0m\u001b[0;34m)\u001b[0m\u001b[0;34m.\u001b[0m\u001b[0msystem\u001b[0m\u001b[0;34m(\u001b[0m\u001b[0;34m' pip install easydict jamo tqdm pillow lmdb natsort nltk adabound'\u001b[0m\u001b[0;34m)\u001b[0m\u001b[0;34m\u001b[0m\u001b[0;34m\u001b[0m\u001b[0m\n\u001b[0m",
      "\u001b[0;32m/usr/local/lib/python3.6/dist-packages/IPython/core/interactiveshell.py\u001b[0m in \u001b[0;36msystem_piped\u001b[0;34m(self, cmd)\u001b[0m\n\u001b[1;32m   2444\u001b[0m         \u001b[0;31m# a non-None value would trigger :func:`sys.displayhook` calls.\u001b[0m\u001b[0;34m\u001b[0m\u001b[0;34m\u001b[0m\u001b[0;34m\u001b[0m\u001b[0m\n\u001b[1;32m   2445\u001b[0m         \u001b[0;31m# Instead, we store the exit_code in user_ns.\u001b[0m\u001b[0;34m\u001b[0m\u001b[0;34m\u001b[0m\u001b[0;34m\u001b[0m\u001b[0m\n\u001b[0;32m-> 2446\u001b[0;31m         \u001b[0mself\u001b[0m\u001b[0;34m.\u001b[0m\u001b[0muser_ns\u001b[0m\u001b[0;34m[\u001b[0m\u001b[0;34m'_exit_code'\u001b[0m\u001b[0;34m]\u001b[0m \u001b[0;34m=\u001b[0m \u001b[0msystem\u001b[0m\u001b[0;34m(\u001b[0m\u001b[0mself\u001b[0m\u001b[0;34m.\u001b[0m\u001b[0mvar_expand\u001b[0m\u001b[0;34m(\u001b[0m\u001b[0mcmd\u001b[0m\u001b[0;34m,\u001b[0m \u001b[0mdepth\u001b[0m\u001b[0;34m=\u001b[0m\u001b[0;36m1\u001b[0m\u001b[0;34m)\u001b[0m\u001b[0;34m)\u001b[0m\u001b[0;34m\u001b[0m\u001b[0;34m\u001b[0m\u001b[0m\n\u001b[0m\u001b[1;32m   2447\u001b[0m \u001b[0;34m\u001b[0m\u001b[0m\n\u001b[1;32m   2448\u001b[0m     \u001b[0;32mdef\u001b[0m \u001b[0msystem_raw\u001b[0m\u001b[0;34m(\u001b[0m\u001b[0mself\u001b[0m\u001b[0;34m,\u001b[0m \u001b[0mcmd\u001b[0m\u001b[0;34m)\u001b[0m\u001b[0;34m:\u001b[0m\u001b[0;34m\u001b[0m\u001b[0;34m\u001b[0m\u001b[0m\n",
      "\u001b[0;32m/usr/local/lib/python3.6/dist-packages/IPython/utils/_process_posix.py\u001b[0m in \u001b[0;36msystem\u001b[0;34m(self, cmd)\u001b[0m\n\u001b[1;32m    159\u001b[0m                 \u001b[0;31m# res is the index of the pattern that caused the match, so we\u001b[0m\u001b[0;34m\u001b[0m\u001b[0;34m\u001b[0m\u001b[0;34m\u001b[0m\u001b[0m\n\u001b[1;32m    160\u001b[0m                 \u001b[0;31m# know whether we've finished (if we matched EOF) or not\u001b[0m\u001b[0;34m\u001b[0m\u001b[0;34m\u001b[0m\u001b[0;34m\u001b[0m\u001b[0m\n\u001b[0;32m--> 161\u001b[0;31m                 \u001b[0mres_idx\u001b[0m \u001b[0;34m=\u001b[0m \u001b[0mchild\u001b[0m\u001b[0;34m.\u001b[0m\u001b[0mexpect_list\u001b[0m\u001b[0;34m(\u001b[0m\u001b[0mpatterns\u001b[0m\u001b[0;34m,\u001b[0m \u001b[0mself\u001b[0m\u001b[0;34m.\u001b[0m\u001b[0mread_timeout\u001b[0m\u001b[0;34m)\u001b[0m\u001b[0;34m\u001b[0m\u001b[0;34m\u001b[0m\u001b[0m\n\u001b[0m\u001b[1;32m    162\u001b[0m                 \u001b[0mprint\u001b[0m\u001b[0;34m(\u001b[0m\u001b[0mchild\u001b[0m\u001b[0;34m.\u001b[0m\u001b[0mbefore\u001b[0m\u001b[0;34m[\u001b[0m\u001b[0mout_size\u001b[0m\u001b[0;34m:\u001b[0m\u001b[0;34m]\u001b[0m\u001b[0;34m.\u001b[0m\u001b[0mdecode\u001b[0m\u001b[0;34m(\u001b[0m\u001b[0menc\u001b[0m\u001b[0;34m,\u001b[0m \u001b[0;34m'replace'\u001b[0m\u001b[0;34m)\u001b[0m\u001b[0;34m,\u001b[0m \u001b[0mend\u001b[0m\u001b[0;34m=\u001b[0m\u001b[0;34m''\u001b[0m\u001b[0;34m)\u001b[0m\u001b[0;34m\u001b[0m\u001b[0;34m\u001b[0m\u001b[0m\n\u001b[1;32m    163\u001b[0m                 \u001b[0mflush\u001b[0m\u001b[0;34m(\u001b[0m\u001b[0;34m)\u001b[0m\u001b[0;34m\u001b[0m\u001b[0;34m\u001b[0m\u001b[0m\n",
      "\u001b[0;32m/usr/local/lib/python3.6/dist-packages/pexpect/spawnbase.py\u001b[0m in \u001b[0;36mexpect_list\u001b[0;34m(self, pattern_list, timeout, searchwindowsize, async_, **kw)\u001b[0m\n\u001b[1;32m    367\u001b[0m             \u001b[0;32mreturn\u001b[0m \u001b[0mexpect_async\u001b[0m\u001b[0;34m(\u001b[0m\u001b[0mexp\u001b[0m\u001b[0;34m,\u001b[0m \u001b[0mtimeout\u001b[0m\u001b[0;34m)\u001b[0m\u001b[0;34m\u001b[0m\u001b[0;34m\u001b[0m\u001b[0m\n\u001b[1;32m    368\u001b[0m         \u001b[0;32melse\u001b[0m\u001b[0;34m:\u001b[0m\u001b[0;34m\u001b[0m\u001b[0;34m\u001b[0m\u001b[0m\n\u001b[0;32m--> 369\u001b[0;31m             \u001b[0;32mreturn\u001b[0m \u001b[0mexp\u001b[0m\u001b[0;34m.\u001b[0m\u001b[0mexpect_loop\u001b[0m\u001b[0;34m(\u001b[0m\u001b[0mtimeout\u001b[0m\u001b[0;34m)\u001b[0m\u001b[0;34m\u001b[0m\u001b[0;34m\u001b[0m\u001b[0m\n\u001b[0m\u001b[1;32m    370\u001b[0m \u001b[0;34m\u001b[0m\u001b[0m\n\u001b[1;32m    371\u001b[0m     def expect_exact(self, pattern_list, timeout=-1, searchwindowsize=-1,\n",
      "\u001b[0;32m/usr/local/lib/python3.6/dist-packages/pexpect/expect.py\u001b[0m in \u001b[0;36mexpect_loop\u001b[0;34m(self, timeout)\u001b[0m\n\u001b[1;32m    109\u001b[0m                     \u001b[0;32mreturn\u001b[0m \u001b[0mself\u001b[0m\u001b[0;34m.\u001b[0m\u001b[0mtimeout\u001b[0m\u001b[0;34m(\u001b[0m\u001b[0;34m)\u001b[0m\u001b[0;34m\u001b[0m\u001b[0;34m\u001b[0m\u001b[0m\n\u001b[1;32m    110\u001b[0m                 \u001b[0;31m# Still have time left, so read more data\u001b[0m\u001b[0;34m\u001b[0m\u001b[0;34m\u001b[0m\u001b[0;34m\u001b[0m\u001b[0m\n\u001b[0;32m--> 111\u001b[0;31m                 \u001b[0mincoming\u001b[0m \u001b[0;34m=\u001b[0m \u001b[0mspawn\u001b[0m\u001b[0;34m.\u001b[0m\u001b[0mread_nonblocking\u001b[0m\u001b[0;34m(\u001b[0m\u001b[0mspawn\u001b[0m\u001b[0;34m.\u001b[0m\u001b[0mmaxread\u001b[0m\u001b[0;34m,\u001b[0m \u001b[0mtimeout\u001b[0m\u001b[0;34m)\u001b[0m\u001b[0;34m\u001b[0m\u001b[0;34m\u001b[0m\u001b[0m\n\u001b[0m\u001b[1;32m    112\u001b[0m                 \u001b[0;32mif\u001b[0m \u001b[0mself\u001b[0m\u001b[0;34m.\u001b[0m\u001b[0mspawn\u001b[0m\u001b[0;34m.\u001b[0m\u001b[0mdelayafterread\u001b[0m \u001b[0;32mis\u001b[0m \u001b[0;32mnot\u001b[0m \u001b[0;32mNone\u001b[0m\u001b[0;34m:\u001b[0m\u001b[0;34m\u001b[0m\u001b[0;34m\u001b[0m\u001b[0m\n\u001b[1;32m    113\u001b[0m                     \u001b[0mtime\u001b[0m\u001b[0;34m.\u001b[0m\u001b[0msleep\u001b[0m\u001b[0;34m(\u001b[0m\u001b[0mself\u001b[0m\u001b[0;34m.\u001b[0m\u001b[0mspawn\u001b[0m\u001b[0;34m.\u001b[0m\u001b[0mdelayafterread\u001b[0m\u001b[0;34m)\u001b[0m\u001b[0;34m\u001b[0m\u001b[0;34m\u001b[0m\u001b[0m\n",
      "\u001b[0;32m/usr/local/lib/python3.6/dist-packages/pexpect/pty_spawn.py\u001b[0m in \u001b[0;36mread_nonblocking\u001b[0;34m(self, size, timeout)\u001b[0m\n\u001b[1;32m    455\u001b[0m         \u001b[0;31m# * https://github.com/pexpect/pexpect/pull/304\u001b[0m\u001b[0;34m\u001b[0m\u001b[0;34m\u001b[0m\u001b[0;34m\u001b[0m\u001b[0m\n\u001b[1;32m    456\u001b[0m         \u001b[0;31m# * http://trac.sagemath.org/ticket/10295\u001b[0m\u001b[0;34m\u001b[0m\u001b[0;34m\u001b[0m\u001b[0;34m\u001b[0m\u001b[0m\n\u001b[0;32m--> 457\u001b[0;31m         \u001b[0;32mif\u001b[0m \u001b[0mselect\u001b[0m\u001b[0;34m(\u001b[0m\u001b[0;36m0\u001b[0m\u001b[0;34m)\u001b[0m\u001b[0;34m:\u001b[0m\u001b[0;34m\u001b[0m\u001b[0;34m\u001b[0m\u001b[0m\n\u001b[0m\u001b[1;32m    458\u001b[0m             \u001b[0;32mtry\u001b[0m\u001b[0;34m:\u001b[0m\u001b[0;34m\u001b[0m\u001b[0;34m\u001b[0m\u001b[0m\n\u001b[1;32m    459\u001b[0m                 \u001b[0mincoming\u001b[0m \u001b[0;34m=\u001b[0m \u001b[0msuper\u001b[0m\u001b[0;34m(\u001b[0m\u001b[0mspawn\u001b[0m\u001b[0;34m,\u001b[0m \u001b[0mself\u001b[0m\u001b[0;34m)\u001b[0m\u001b[0;34m.\u001b[0m\u001b[0mread_nonblocking\u001b[0m\u001b[0;34m(\u001b[0m\u001b[0msize\u001b[0m\u001b[0;34m)\u001b[0m\u001b[0;34m\u001b[0m\u001b[0;34m\u001b[0m\u001b[0m\n",
      "\u001b[0;32m/usr/local/lib/python3.6/dist-packages/pexpect/pty_spawn.py\u001b[0m in \u001b[0;36mselect\u001b[0;34m(timeout)\u001b[0m\n\u001b[1;32m    447\u001b[0m         \u001b[0;32melse\u001b[0m\u001b[0;34m:\u001b[0m\u001b[0;34m\u001b[0m\u001b[0;34m\u001b[0m\u001b[0m\n\u001b[1;32m    448\u001b[0m             \u001b[0;32mdef\u001b[0m \u001b[0mselect\u001b[0m\u001b[0;34m(\u001b[0m\u001b[0mtimeout\u001b[0m\u001b[0;34m)\u001b[0m\u001b[0;34m:\u001b[0m\u001b[0;34m\u001b[0m\u001b[0;34m\u001b[0m\u001b[0m\n\u001b[0;32m--> 449\u001b[0;31m                 \u001b[0;32mreturn\u001b[0m \u001b[0mselect_ignore_interrupts\u001b[0m\u001b[0;34m(\u001b[0m\u001b[0;34m[\u001b[0m\u001b[0mself\u001b[0m\u001b[0;34m.\u001b[0m\u001b[0mchild_fd\u001b[0m\u001b[0;34m]\u001b[0m\u001b[0;34m,\u001b[0m \u001b[0;34m[\u001b[0m\u001b[0;34m]\u001b[0m\u001b[0;34m,\u001b[0m \u001b[0;34m[\u001b[0m\u001b[0;34m]\u001b[0m\u001b[0;34m,\u001b[0m \u001b[0mtimeout\u001b[0m\u001b[0;34m)\u001b[0m\u001b[0;34m[\u001b[0m\u001b[0;36m0\u001b[0m\u001b[0;34m]\u001b[0m\u001b[0;34m\u001b[0m\u001b[0;34m\u001b[0m\u001b[0m\n\u001b[0m\u001b[1;32m    450\u001b[0m \u001b[0;34m\u001b[0m\u001b[0m\n\u001b[1;32m    451\u001b[0m         \u001b[0;31m# If there is data available to read right now, read as much as\u001b[0m\u001b[0;34m\u001b[0m\u001b[0;34m\u001b[0m\u001b[0;34m\u001b[0m\u001b[0m\n",
      "\u001b[0;32m/usr/local/lib/python3.6/dist-packages/pexpect/utils.py\u001b[0m in \u001b[0;36mselect_ignore_interrupts\u001b[0;34m(iwtd, owtd, ewtd, timeout)\u001b[0m\n\u001b[1;32m    141\u001b[0m     \u001b[0;32mwhile\u001b[0m \u001b[0;32mTrue\u001b[0m\u001b[0;34m:\u001b[0m\u001b[0;34m\u001b[0m\u001b[0;34m\u001b[0m\u001b[0m\n\u001b[1;32m    142\u001b[0m         \u001b[0;32mtry\u001b[0m\u001b[0;34m:\u001b[0m\u001b[0;34m\u001b[0m\u001b[0;34m\u001b[0m\u001b[0m\n\u001b[0;32m--> 143\u001b[0;31m             \u001b[0;32mreturn\u001b[0m \u001b[0mselect\u001b[0m\u001b[0;34m.\u001b[0m\u001b[0mselect\u001b[0m\u001b[0;34m(\u001b[0m\u001b[0miwtd\u001b[0m\u001b[0;34m,\u001b[0m \u001b[0mowtd\u001b[0m\u001b[0;34m,\u001b[0m \u001b[0mewtd\u001b[0m\u001b[0;34m,\u001b[0m \u001b[0mtimeout\u001b[0m\u001b[0;34m)\u001b[0m\u001b[0;34m\u001b[0m\u001b[0;34m\u001b[0m\u001b[0m\n\u001b[0m\u001b[1;32m    144\u001b[0m         \u001b[0;32mexcept\u001b[0m \u001b[0mInterruptedError\u001b[0m\u001b[0;34m:\u001b[0m\u001b[0;34m\u001b[0m\u001b[0;34m\u001b[0m\u001b[0m\n\u001b[1;32m    145\u001b[0m             \u001b[0merr\u001b[0m \u001b[0;34m=\u001b[0m \u001b[0msys\u001b[0m\u001b[0;34m.\u001b[0m\u001b[0mexc_info\u001b[0m\u001b[0;34m(\u001b[0m\u001b[0;34m)\u001b[0m\u001b[0;34m[\u001b[0m\u001b[0;36m1\u001b[0m\u001b[0;34m]\u001b[0m\u001b[0;34m\u001b[0m\u001b[0;34m\u001b[0m\u001b[0m\n",
      "\u001b[0;31mValueError\u001b[0m: filedescriptor out of range in select()"
     ]
    }
   ],
   "source": [
    "! pip install easydict jamo tqdm pillow lmdb natsort nltk adabound"
   ]
  },
  {
   "cell_type": "code",
   "execution_count": 1,
   "metadata": {},
   "outputs": [],
   "source": [
    "import json\n",
    "import PIL as pil\n",
    "import pandas as pd\n",
    "import os\n",
    "import sys\n",
    "import random\n",
    "import torch\n",
    "import torch.backends.cudnn as cudnn\n",
    "import torch.nn.init as init\n",
    "import torch.optim as optim\n",
    "import torch.utils.data\n",
    "import numpy as np\n",
    "import time\n",
    "from PIL import Image\n",
    "from tqdm import tqdm\n",
    "import easydict\n",
    "import time\n",
    "\n",
    "import sys\n",
    "import re\n",
    "import six\n",
    "import math\n",
    "import torchvision.transforms as transforms\n",
    "\n",
    "from utils import AttnLabelConverter, Averager, AlignCollate\n",
    "import utils\n",
    "from Trans import TPS_SpatialTransformerNetwork\n",
    "import Trans\n",
    "from Extract import RCNN_extractor\n",
    "from Extract import EfficientNet\n",
    "import Extract\n",
    "from Seq import BidirectionalLSTM\n",
    "import Seq\n",
    "from Pred import Attention\n",
    "import Pred\n",
    "import torch.nn as nn\n",
    "from torch.utils.data import *\n",
    "from jamo import h2j, j2hcj\n",
    "import gc\n",
    "import adabound\n",
    "import torch.distributed as dist\n",
    "# from apex.parallel import DistributedDataParallel as DDP\n",
    "\n",
    "def json_loader(path):\n",
    "    with open(path, 'r') as json_file:\n",
    "        file = json.load(json_file)\n",
    "    return file\n",
    "\n",
    "def img_annot_split(label):\n",
    "    label_images = pd.DataFrame(label['images'])\n",
    "    label_annot = pd.DataFrame(label['annotations'])\n",
    "    return label_images, label_annot"
   ]
  },
  {
   "cell_type": "code",
   "execution_count": 2,
   "metadata": {
    "scrolled": true
   },
   "outputs": [
    {
     "data": {
      "text/plain": [
       "<module 'Trans' from '/Data/FoodDetection/AI_OCR/Trans.py'>"
      ]
     },
     "execution_count": 2,
     "metadata": {},
     "output_type": "execute_result"
    }
   ],
   "source": [
    "import importlib\n",
    "importlib.reload(Trans)"
   ]
  },
  {
   "cell_type": "markdown",
   "metadata": {},
   "source": [
    "### arguements"
   ]
  },
  {
   "cell_type": "code",
   "execution_count": 20,
   "metadata": {},
   "outputs": [],
   "source": [
    "# opt\n",
    "opt = easydict.EasyDict({\n",
    "    \"experiment_name\" : 'first_0525',\n",
    "    \"manualSeed\" : 1111,\n",
    "    \"imgH\" : 35 ,\n",
    "    \"imgW\" :  90,\n",
    "    \"PAD\" : True ,\n",
    "    'batch_size' : 512,\n",
    "    'data_filtering_off' : True,\n",
    "    'workers' : 20,\n",
    "    'rgb' :True,\n",
    "    'sensitive' : True,\n",
    "    'character' : '0123456789ㄱㄲㄴㄷㄸㄹㅁㅂㅃㅅㅆㅇㅈㅉㅊㅋㅌㅍㅎㄵㄶㄺㄻㅀㄼㅄㅏㅑㅓㅕㅗㅛㅜㅠㅡㅣㅐㅒㅔㅖㅢㅟㅝㅞㅚㅘㅙ!\"#$%&\\'()*+,-./:;<=>?@[\\\\]^_`{|}~' ,\n",
    "    'batch_max_length' : 25,\n",
    "    'num_fiducial' : 20,\n",
    "    'output_channel' : 512,\n",
    "    'hidden_size' :256,\n",
    "    'lr' : 1,\n",
    "    'rho' : 0.95,\n",
    "    'eps' : 1e-8,\n",
    "    'grad_clip' : 5,\n",
    "    'valInterval' : 1000,\n",
    "    'num_iter' : 30000,\n",
    "    'input_channel' : 3,\n",
    "    'saved_model' : 'first_0525'\n",
    "    })\n",
    "\n",
    "device = torch.device('cuda') #utils.py 안에 device는 따로 세팅해줘야함"
   ]
  },
  {
   "cell_type": "code",
   "execution_count": 4,
   "metadata": {},
   "outputs": [],
   "source": [
    "# eff = EfficientNet()\n",
    "# trans_output = torch.FloatTensor(10, 3, opt.imgH, opt.imgH)\n",
    "# feature_output = eff(trans_output)\n",
    "# feature_output.shape"
   ]
  },
  {
   "cell_type": "markdown",
   "metadata": {},
   "source": [
    "### dataset"
   ]
  },
  {
   "cell_type": "code",
   "execution_count": 3,
   "metadata": {},
   "outputs": [
    {
     "name": "stderr",
     "output_type": "stream",
     "text": [
      "100%|██████████| 359997/359997 [23:39<00:00, 253.63it/s]\n"
     ]
    }
   ],
   "source": [
    "base_path = '/Data/KoreanSTR/'\n",
    "\n",
    "# path_wild = '/Data/KoreanSTR/textinthewild_data_info.json'\n",
    "# path_printed = '/Data/KoreanSTR/printed_data_info.json'\n",
    "path_hand = '/Data/KoreanSTR/handwriting_data_info1.json'\n",
    "# path_aug = '/Data/KoreanSTR/augmentation_data_info.json'\n",
    "\n",
    "label_hand = json_loader(path_hand)\n",
    "label_hand_images, label_hand_annot = img_annot_split(label_hand)\n",
    "\n",
    "label_hand_annot = label_hand_annot[['id','text']]\n",
    "\n",
    "dataset = '1_word'\n",
    "file_list_word = os.listdir(os.path.join(base_path, dataset))\n",
    "files_word = pd.DataFrame(file_list_word, columns=['file_name'])\n",
    "files_word['id'] = files_word['file_name'].apply(lambda x : x.replace('.png',''))\n",
    "files_labels = pd.merge(files_word, label_hand_annot, how='left', left_on='id',right_on='id' )\n",
    "\n",
    "word_data = []\n",
    "random_idx = np.random.choice(range(len(files_labels)), size= int(len(files_labels) * 1), replace=False)\n",
    "for file in tqdm(files_labels.loc[random_idx]['file_name']):\n",
    "#     img_arr = np.asarray(Image.open(os.path.join(base_path, dataset, file)))\n",
    "    img_arr = Image.open(os.path.join(base_path, dataset, file))\n",
    "    word_data.append(img_arr)\n",
    "    \n",
    "labels = [j2hcj(h2j(x)) for x in files_labels['text']]\n",
    "\n",
    "dataset = []\n",
    "for img, text in zip(word_data, labels):\n",
    "    dataset.append((img, text))"
   ]
  },
  {
   "cell_type": "code",
   "execution_count": 6,
   "metadata": {
    "collapsed": true
   },
   "outputs": [
    {
     "name": "stdout",
     "output_type": "stream",
     "text": [
      "(193, 298, 3)\n"
     ]
    },
    {
     "data": {
      "image/png": "[encoded data removed]",
      "text/plain": [
       "<PIL.PngImagePlugin.PngImageFile image mode=RGB size=298x193 at 0x7F7D3FD54EB8>"
      ]
     },
     "execution_count": 6,
     "metadata": {},
     "output_type": "execute_result"
    }
   ],
   "source": [
    "idx = 3000\n",
    "print(np.array(Dataset[idx][0]).shape)\n",
    "Dataset[idx][0]"
   ]
  },
  {
   "cell_type": "code",
   "execution_count": 4,
   "metadata": {},
   "outputs": [],
   "source": [
    "from itertools import islice, cycle\n",
    "\n",
    "class Dataset_streamer(Dataset):\n",
    "    def __init__(self, dataset):\n",
    "        self.dataset = dataset\n",
    "\n",
    "    def __len__(self):\n",
    "        return len(self.dataset)\n",
    "        \n",
    "#     def __iter__(self):\n",
    "#         return cycle(self.dataset)\n",
    "    \n",
    "    def __getitem__(self, idx):\n",
    "        return self.dataset[idx]\n",
    "    \n",
    "dataset_streamer = Dataset_streamer(dataset[ : int(len(dataset)*0.9)])\n",
    "# valid_streamer = Dataset_streamer(dataset[int(len(dataset)*0.9) : ])"
   ]
  },
  {
   "cell_type": "code",
   "execution_count": 21,
   "metadata": {
    "scrolled": true
   },
   "outputs": [],
   "source": [
    "# def worker_init_fn(_):\n",
    "    \n",
    "#     worker_info = torch.utils.data.get_worker_info()\n",
    "#     dataset=  worker_info.dataset\n",
    "#     worker_id = worker_info.id\n",
    "#     split_size = len(dataset.dataset) // worker_info.num_workers\n",
    "    \n",
    "#     dataset.data = dataset.dataset[worker_id * split_size :(worker_id + 1) * split_size]\n",
    "\n",
    "\n",
    "_AlignCollate = utils.AlignCollate(imgH=opt.imgH, imgW=opt.imgW, keep_ratio_with_pad=True)\n",
    "data_loader = DataLoader(dataset_streamer, batch_size = opt.batch_size,  num_workers =10, #worker_init_fn=worker_init_fn, \n",
    "                         collate_fn = _AlignCollate, pin_memory=False )\n",
    "data_loader_iter = iter(data_loader)\n",
    "\n",
    "#for valid\n",
    "_AlignCollate_valid = utils.AlignCollate(imgH=opt.imgH, imgW=opt.imgW, keep_ratio_with_pad=True)\n",
    "#not valid_streamer\n",
    "valid_loader = DataLoader(dataset[int(len(dataset)*0.9) : ], batch_size = opt.batch_size,  num_workers=10, #worker_init_fn = worker_init_fn,\n",
    "                          collate_fn=_AlignCollate_valid, pin_memory=False)"
   ]
  },
  {
   "cell_type": "code",
   "execution_count": 14,
   "metadata": {
    "scrolled": true
   },
   "outputs": [],
   "source": [
    "img, label = next(data_loader_iter)"
   ]
  },
  {
   "cell_type": "code",
   "execution_count": 8,
   "metadata": {
    "scrolled": true
   },
   "outputs": [
    {
     "data": {
      "text/plain": [
       "torch.Size([256, 3, 35, 90])"
      ]
     },
     "execution_count": 8,
     "metadata": {},
     "output_type": "execute_result"
    }
   ],
   "source": [
    "img.shape"
   ]
  },
  {
   "cell_type": "code",
   "execution_count": 31,
   "metadata": {},
   "outputs": [
    {
     "data": {
      "text/plain": [
       "256"
      ]
     },
     "execution_count": 31,
     "metadata": {},
     "output_type": "execute_result"
    }
   ],
   "source": [
    "len(label)"
   ]
  },
  {
   "cell_type": "markdown",
   "metadata": {},
   "source": [
    "### model"
   ]
  },
  {
   "cell_type": "code",
   "execution_count": 22,
   "metadata": {},
   "outputs": [],
   "source": [
    "class CTN(nn.Module):\n",
    "    def __init__(self, opt):\n",
    "        super(CTN, self).__init__()\n",
    "        self.opt = opt\n",
    "        \n",
    "        #Trans\n",
    "        self.Trans = Trans.TPS_SpatialTransformerNetwork(F = opt.num_fiducial,\n",
    "                                                  i_size = (opt.imgH, opt.imgW), \n",
    "                                                  i_r_size= (opt.imgH, opt.imgW), \n",
    "                                                  i_channel_num=opt.input_channel,\n",
    "                                                        device = device)\n",
    "        #Extract\n",
    "        self.Extract = Extract.RCNN_extractor(opt.input_channel, opt.output_channel)\n",
    "        self.FeatureExtraction_output = opt.output_channel # (imgH/16 -1 )* 512\n",
    "        self.AdaptiveAvgPool = nn.AdaptiveAvgPool2d((None,1)) # imgH/16-1   ->  1\n",
    "#         self.Extract = EfficientNet()\n",
    "        \n",
    "        \n",
    "         \n",
    "        # Sequence\n",
    "        self.Seq = nn.Sequential(\n",
    "            BidirectionalLSTM(self.FeatureExtraction_output, opt.hidden_size,  opt.hidden_size),\n",
    "#             BidirectionalLSTM(1536, opt.hidden_size,  opt.hidden_size),\n",
    "            BidirectionalLSTM(opt.hidden_size, opt.hidden_size, opt.hidden_size))\n",
    "        self.Seq_output = opt.hidden_size\n",
    "        \n",
    "        #Pred\n",
    "        self.Pred = Pred.Attention(self.Seq_output, opt.hidden_size, opt.num_class, device=device)\n",
    "        \n",
    "        \n",
    "    def forward(self, input, text, is_train=True):\n",
    "        #Trans stage\n",
    "        input = self.Trans(input)\n",
    "        \n",
    "        #Extract stage\n",
    "        visual_feature = self.Extract(input)\n",
    "        visual_feature = self.AdaptiveAvgPool(visual_feature.permute(0, 3, 1, 2))\n",
    "        visual_feature = visual_feature.squeeze(3)\n",
    "        \n",
    "        #Seq stage\n",
    "        contextual_feature = self.Seq(visual_feature)\n",
    "        #Pred stage\n",
    "        prediction = self.Pred(contextual_feature.contiguous(), text, is_train, batch_max_length = self.opt.batch_max_length)\n",
    "\n",
    "        return prediction"
   ]
  },
  {
   "cell_type": "code",
   "execution_count": 23,
   "metadata": {},
   "outputs": [],
   "source": [
    "def train(opt):\n",
    "    converter = AttnLabelConverter(opt.character)\n",
    "    opt.num_class = len(converter.character)\n",
    "    \n",
    "    model = CTN(opt)\n",
    "    print('model parameters. height {}, width {}, num of fiducial {}, input channel {}, output channel {}, hidden size {}, num class {},\\\n",
    "    batch max length {}'.format(opt.imgH, opt.imgW, opt.num_fiducial, opt.input_channel, opt.output_channel, opt.hidden_size, opt.num_class,\n",
    "                               opt.batch_max_length))\n",
    "    \n",
    "    # weight initialization\n",
    "    for name, param, in model.named_parameters():\n",
    "        if 'localization_fc2' in name:\n",
    "            print(f'Skip {name} as it is already initializaed')\n",
    "            continue\n",
    "        try:\n",
    "            if 'bias' in name:\n",
    "                init.constant_(param, 0.0)\n",
    "            elif 'weight' in name:\n",
    "                init.kaiming_normal_(param)\n",
    "                \n",
    "        except Exception as e :\n",
    "            if 'weight' in name:\n",
    "                param.data.fill_(1)\n",
    "            continue\n",
    "            \n",
    "    #data parallel for multi GPU\n",
    "    model = torch.nn.DataParallel(model, device_ids = [0,1]).to(device)\n",
    "#     model = model.to(device)\n",
    "    model.train() # output just architecture\n",
    "    \n",
    "    if opt.saved_model != '':\n",
    "        base_path = './models'\n",
    "        print(f'looking for pretrained model from {os.path.join(base,path, opt.saved_model)}')\n",
    "        \n",
    "        try :\n",
    "            if opt.FT:\n",
    "                model.load_state_dict(torch.load(os.path.join(base,path, opt.saved_model)), strict=False)\n",
    "            else:\n",
    "                model.load_state_dict(torch.load(os.path.join(base,path, opt.saved_model)))\n",
    "            print('loading complete')    \n",
    "        except :\n",
    "            print('cannot find model you said')\n",
    "        \n",
    "     \n",
    "    # loss\n",
    "    criterion = torch.nn.CrossEntropyLoss(ignore_index=0).to(device) #ignore [GO] token = ignore index 0\n",
    "    log_avg = Averager()\n",
    "    \n",
    "    # filter that only require gradient descent\n",
    "    filtered_parameters = []\n",
    "    params_num = []\n",
    "    for p in filter(lambda p : p.requires_grad, model.parameters()):\n",
    "        filtered_parameters.append(p)\n",
    "        params_num.append(np.prod(p.size()))\n",
    "    print('Tranable params : ', sum(params_num))\n",
    "    \n",
    "    # optimizer\n",
    "    optimizer = optim.Adadelta(filtered_parameters, lr= opt.lr, rho = opt.rho, eps = opt.eps)\n",
    "#     optimizer = adabound.AdaBound(filtered_parameters, lr=1e-3, final_lr=0.1)\n",
    "    \n",
    "    # opt log\n",
    "    with open(f'./models/{opt.experiment_name}/opt.txt', 'a') as opt_file:\n",
    "        opt_log = '---------------------Options-----------------\\n'\n",
    "        args = vars(opt)\n",
    "        for k, v in args.items():\n",
    "            opt_log +=f'{str(k)} : {str(v)}\\n'\n",
    "        opt_log +='---------------------------------------------\\n'\n",
    "        opt_file.write(opt_log)\n",
    "        \n",
    "    #start training\n",
    "    start_iter = 0\n",
    "    \n",
    "    start_time = time.time()\n",
    "    best_accuracy = -1\n",
    "    best_norm_ED = -1\n",
    "    i = start_iter\n",
    "    \n",
    "    \n",
    "    while(True):\n",
    "\n",
    "        image_tensors, labels = data_loader_iter.next()\n",
    "        image = image_tensors.to(device)\n",
    "        text, length = converter.encode(labels, batch_max_length = opt.batch_max_length)\n",
    "\n",
    "        batch_size = image.size(0)\n",
    "        \n",
    "\n",
    "        preds = model(image, text[:, : -1])\n",
    "        target = text[:, 1:]\n",
    "        cost = criterion(preds.view(-1, preds.shape[-1]), target.contiguous().view(-1))\n",
    "        \n",
    "        loss_avg = Averager()\n",
    "        \n",
    "        model.zero_grad()\n",
    "        cost.backward()\n",
    "        torch.nn.utils.clip_grad_norm_(model.parameters(), opt.grad_clip) #gradient clipping with 5\n",
    "        optimizer.step()\n",
    "\n",
    "        loss_avg.add(cost)\n",
    "\n",
    "        #validation\n",
    "        if i % opt.valInterval == 0:\n",
    "            elapsed_time = time.time() - start_time\n",
    "            with open(f'./models/{opt.experiment_name}/log_train.txt', 'a') as log:\n",
    "                model.eval()\n",
    "                with torch.no_grad():\n",
    "                    valid_loss, current_accuracy, current_norm_ED, preds, confidence_score, labels, infer_time, length_of_data = utils.validation(\n",
    "                        model, criterion, valid_loader, converter, opt)\n",
    "                model.train()\n",
    "                present_time = time.localtime()\n",
    "                loss_log = f'[{i}/{opt.num_iter}] Train loss : {loss_avg.val():0.5f}, Valid loss : {valid_loss:0.5f}, Elapsed time : {elapsed_time:0.5f}, \\\n",
    "                Present time : {present_time[1]}/{present_time[2]}, {present_time[3]+9} : {present_time[4]}'\n",
    "                loss_avg.reset()\n",
    "\n",
    "\n",
    "                current_model_log = f'{\"Current_accuracy\":17s}: {current_accuracy:0.3f}, {\"current_norm_ED\":17s}: {current_norm_ED:0.2f}'\n",
    "\n",
    "\n",
    "                #keep the best\n",
    "                if current_accuracy > best_accuracy:\n",
    "                    best_accuracy = current_accuracy\n",
    "                    torch.save(model.state_dict(), f'./models/{opt.experiment_name}/best_accuracy.pth')\n",
    "\n",
    "                if current_norm_ED > best_norm_ED:\n",
    "                    best_norm_ED = current_norm_ED\n",
    "                    torch.save(model.state_dict(), f'./models/{opt.experiment_name}/best_norm_ED.pth')\n",
    "\n",
    "                best_model_log = f'{\"Best accuracy\":17s}: {best_accuracy:0.3f}, {\"Best_norm_ED\":17s}: {best_norm_ED:0.2f}'\n",
    "                loss_model_log = f'{loss_log}\\n{current_model_log}\\n{best_model_log}'\n",
    "                print(loss_model_log)\n",
    "                log.write(loss_model_log+'\\n')\n",
    "\n",
    "\n",
    "                dashed_line = '-'*80\n",
    "                head = f'{\"Ground Truth\":25s} | {\"Prediction\" :25s}| Confidence Score & T/F'\n",
    "                predicted_result_log = f'{dashed_line}\\n{head}\\n{dashed_line}\\n'\n",
    "                \n",
    "                random_idx  = np.random.choice(range(len(labels)), size= 5, replace=False)\n",
    "                for gt, pred, confidence in zip(list(np.asarray(labels)[random_idx]), list(np.asarray(preds)[random_idx]), list(np.asarray(confidence_score)[random_idx])):\n",
    "#                     if 'Attn' in opt.Prediction:\n",
    "                    gt = gt[: gt.find('[s]')]\n",
    "                    pred = pred[: pred.find('[s]')]\n",
    "\n",
    "                    predicted_result_log += f'{gt:25s} | {pred:25s} | {confidence:0.4f}\\t{str(pred == gt)}\\n'\n",
    "                predicted_result_log += f'{dashed_line}'\n",
    "                print(predicted_result_log)\n",
    "                log.write(predicted_result_log+'\\n')\n",
    "\n",
    "        \n",
    "        if (i+1)% 1e+5 ==0:\n",
    "            torch.save(model.state_dict(), f'./models/{opt.experiment_name}/iter_{i+1}.pth')\n",
    "\n",
    "\n",
    "        if i==opt.num_iter:\n",
    "            print('end of training')\n",
    "\n",
    "        i +=1\n"
   ]
  },
  {
   "cell_type": "code",
   "execution_count": null,
   "metadata": {
    "scrolled": true
   },
   "outputs": [
    {
     "name": "stdout",
     "output_type": "stream",
     "text": [
      "-------- Use multi GPU setting --------\n",
      "model parameters. height 35, width 90, num of fiducial 20, input channel 3, output channel 512, hidden size 256, num class 91,    batch max length 25\n",
      "Skip Trans.LocalizationNetwork.localization_fc2.weight as it is already initializaed\n",
      "Skip Trans.LocalizationNetwork.localization_fc2.bias as it is already initializaed\n",
      "Tranable params :  7221443\n",
      "[0/30000] Train loss : 4.52542, Valid loss : 4.46772, Elapsed time : 1.96349,                 Present time : 5/25, 17 : 41\n",
      "Current_accuracy : 0.000, current_norm_ED  : 0.00\n",
      "Best accuracy    : 0.000, Best_norm_ED     : 0.00\n",
      "--------------------------------------------------------------------------------\n",
      "Ground Truth              | Prediction               | Confidence Score & T/F\n",
      "--------------------------------------------------------------------------------\n",
      "ㄱㅜㄴㅇㅣㄴ                    | !!!!!!!!!!!!!!!!!!!!!!!!! | 0.0000\tFalse\n",
      "ㅈㅔㅈㅏㄱㅎㅏㄷㅏ                 | !!!!!!!!!!!!!!!!!!!!!!!!! | 0.0000\tFalse\n",
      "ㅇㅏㄴㅐ                      | !!!!!!!!!!!!!!!!!!!!!!!!! | 0.0000\tFalse\n",
      "ㅎㅏㄴㄷㅗㅇㅇㅏㄴ                 | !!!!!!!!!!!!!!!!!!!!!!!!! | 0.0000\tFalse\n",
      "ㄱㅜㅂㅜㄴ                     | !!!!!!!!!!!!!!!!!!!!!!!!! | 0.0000\tFalse\n",
      "--------------------------------------------------------------------------------\n",
      "[1000/30000] Train loss : 2.61637, Valid loss : 3.10508, Elapsed time : 377.57002,                 Present time : 5/25, 17 : 47\n",
      "Current_accuracy : 0.000, current_norm_ED  : 0.12\n",
      "Best accuracy    : 0.000, Best_norm_ED     : 0.12\n",
      "--------------------------------------------------------------------------------\n",
      "Ground Truth              | Prediction               | Confidence Score & T/F\n",
      "--------------------------------------------------------------------------------\n",
      "ㅇㅏㄴㄱㅕㅇ                    | ㅈㅓㄹㅓㅓㄷㅏ                   | 0.0004\tFalse\n",
      "ㅎㅏㄴㅂㅓㄴ                    | ㄱㅓㄱㅓㄱ                     | 0.0018\tFalse\n",
      "ㅇㅏㅍㅡㅁ                     | ㄱㅓㄱㄱㅓㄱ                    | 0.0019\tFalse\n",
      "ㅇㅏㄹㅐㅅㅅㅏㄹㅏㅁ                | ㄱㅓㄱㅅㅓㄱㅎㅏㄷㅏ                | 0.0000\tFalse\n",
      "ㅇㅏㄴ                       | ㄱㅓㄱㅅㅓㄱ                    | 0.0020\tFalse\n",
      "--------------------------------------------------------------------------------\n",
      "[2000/30000] Train loss : 2.52252, Valid loss : 3.32014, Elapsed time : 757.63021,                 Present time : 5/25, 17 : 54\n",
      "Current_accuracy : 0.000, current_norm_ED  : 0.13\n",
      "Best accuracy    : 0.000, Best_norm_ED     : 0.13\n",
      "--------------------------------------------------------------------------------\n",
      "Ground Truth              | Prediction               | Confidence Score & T/F\n",
      "--------------------------------------------------------------------------------\n",
      "ㅈㅓㅇㅈㅣㄱㅎㅏㄷㅏ                | ㅅㅣㄴㅈㅓㄴ                    | 0.0014\tFalse\n",
      "ㅊㅐㄱㅇㅣㅁㄱㅏㅁ                 | ㅈㅣㄴㅈㅓㄴ                    | 0.0010\tFalse\n",
      "ㄱㅗㄹㄱㅗㄹㅜ                   | ㅅㅗㅇㅣㄴ                     | 0.0022\tFalse\n",
      "ㄱㅘㄴㄹㅣㅎㅏㄷㅏ                 | ㅅㅣㄴㅅㅣ                     | 0.0031\tFalse\n",
      "ㄱㅜㅇㅣㅂ                     | ㅈㅣㅇㅈㅏ                     | 0.0016\tFalse\n",
      "--------------------------------------------------------------------------------\n",
      "[3000/30000] Train loss : 2.56171, Valid loss : 3.45872, Elapsed time : 1136.99649,                 Present time : 5/25, 18 : 0\n",
      "Current_accuracy : 0.008, current_norm_ED  : 0.14\n",
      "Best accuracy    : 0.008, Best_norm_ED     : 0.14\n",
      "--------------------------------------------------------------------------------\n",
      "Ground Truth              | Prediction               | Confidence Score & T/F\n",
      "--------------------------------------------------------------------------------\n",
      "ㅎㅏㄴㅡㄴㅣㅁ                   | ㅈㅜㄴㅎㅏㄷㅏ                   | 0.0077\tFalse\n",
      "ㅎㅏㄴㄷㅗㅇㅇㅏㄴ                 | ㅅㅐㅇㅑㄴ                     | 0.0010\tFalse\n",
      "ㅁㅜㄹㄹㅓㄴㅏㄷㅏ                 | ㅎㅏㄴ                       | 0.0223\tFalse\n",
      "ㅁㅜㄹㄱㅗㄱㅣ                   | ㅇㅗㅎㅏㄴ                     | 0.0038\tFalse\n",
      "ㅇㅏㅁㅏㄷㅗ                    | ㅅㅔㄴㅐ                      | 0.0017\tFalse\n",
      "--------------------------------------------------------------------------------\n",
      "[4000/30000] Train loss : 2.69837, Valid loss : 3.69736, Elapsed time : 1519.57383,                 Present time : 5/25, 18 : 6\n",
      "Current_accuracy : 0.000, current_norm_ED  : 0.14\n",
      "Best accuracy    : 0.008, Best_norm_ED     : 0.14\n",
      "--------------------------------------------------------------------------------\n",
      "Ground Truth              | Prediction               | Confidence Score & T/F\n",
      "--------------------------------------------------------------------------------\n",
      "ㄱㅕㅇㅈㅐㅇ                    | ㅇㅏㄴㅗㅇ                     | 0.0011\tFalse\n",
      "ㅅㅜㅁㅕㅇ                     | ㅇㅟㄴㅐㅇ                     | 0.0013\tFalse\n",
      "ㅁㅗㅅㄷㅚㄷㅏ                   | ㅇㅓㅇㅓㅇㅣㄷㅏ                  | 0.0005\tFalse\n",
      "ㄱㅗㅁㅜㅅㅣㄴ                   | ㅇㅕㅇㅓㅇㅗㄷㅏ                  | 0.0004\tFalse\n",
      "ㅁㅗㅅㅅㅐㅇㄱㅣㄷㅏ                | ㅇㅏㄹㅓㄴ                     | 0.0022\tFalse\n",
      "--------------------------------------------------------------------------------\n",
      "[5000/30000] Train loss : 2.79217, Valid loss : 3.83138, Elapsed time : 1897.09915,                 Present time : 5/25, 18 : 13\n",
      "Current_accuracy : 0.000, current_norm_ED  : 0.13\n",
      "Best accuracy    : 0.008, Best_norm_ED     : 0.14\n",
      "--------------------------------------------------------------------------------\n",
      "Ground Truth              | Prediction               | Confidence Score & T/F\n",
      "--------------------------------------------------------------------------------\n",
      "ㅅㅗㄱ                       | ㄱㅡㄹㅣ                      | 0.0474\tFalse\n",
      "ㅅㅜㄱㅗ                      | ㄷㅓㄴㅈㅔ                     | 0.0047\tFalse\n",
      "ㄱㅘㅇㅈㅜ                     | ㅅㅓㄴ                       | 0.1517\tFalse\n",
      "ㅈㅔㅅㅏㅅㄴㅏㄹ                  | ㅅㅣㅁㅅㅣ                     | 0.0073\tFalse\n",
      "ㅇㅏㄴ                       | ㅅㅓㅇㅈㅓ                     | 0.0396\tFalse\n",
      "--------------------------------------------------------------------------------\n",
      "[6000/30000] Train loss : 2.25964, Valid loss : 3.08536, Elapsed time : 2271.88265,                 Present time : 5/25, 18 : 19\n",
      "Current_accuracy : 0.000, current_norm_ED  : 0.16\n",
      "Best accuracy    : 0.008, Best_norm_ED     : 0.16\n",
      "--------------------------------------------------------------------------------\n",
      "Ground Truth              | Prediction               | Confidence Score & T/F\n",
      "--------------------------------------------------------------------------------\n",
      "ㅇㅣㅇㅑㄱㅣ                    | ㄱㅣㄴㄱㅏ                     | 0.0003\tFalse\n",
      "ㄱㅜㄱㅁㅣㄴ                    | ㅇㅣㄹㄱㅏㄴ                    | 0.0002\tFalse\n",
      "ㅊㅚㅅㅓㄴ                     | ㅇㅣㄹㄱㅏㄴ                    | 0.0002\tFalse\n",
      "ㅅㅜㄱㅗ                      | ㅇㅣㄹㄱㅏㄴ                    | 0.0001\tFalse\n",
      "ㅁㅗㅁㅅㅗㄱ                    | ㄱㅣㄴㄱㅣ                     | 0.0004\tFalse\n",
      "--------------------------------------------------------------------------------\n",
      "[7000/30000] Train loss : 2.65736, Valid loss : 3.81476, Elapsed time : 2645.33296,                 Present time : 5/25, 18 : 25\n",
      "Current_accuracy : 0.006, current_norm_ED  : 0.14\n",
      "Best accuracy    : 0.008, Best_norm_ED     : 0.16\n",
      "--------------------------------------------------------------------------------\n",
      "Ground Truth              | Prediction               | Confidence Score & T/F\n",
      "--------------------------------------------------------------------------------\n",
      "ㄱㅙㄴㅎㅣ                     | ㅎㅏㄱㅅㅡㄹ                    | 0.0034\tFalse\n",
      "ㅇㅏㄴㄴㅐㅎㅏㄷㅏ                 | ㄱㅗㅈㅣ                      | 0.0162\tFalse\n",
      "ㅎㅏㄴㄱㅜㄱㅇㅓ                  | ㅇㅟㅅㅡㅁ                     | 0.0131\tFalse\n",
      "ㅈㅔㅈㅏㄱㅎㅏㄷㅏ                 | ㅅㅗㄱㅇㅣㄴ                    | 0.0029\tFalse\n",
      "ㄱㅘㄴㅊㅏㄹ                    | ㅈㅓㄱ                       | 0.0466\tFalse\n",
      "--------------------------------------------------------------------------------\n",
      "[8000/30000] Train loss : 2.65471, Valid loss : 3.91525, Elapsed time : 3021.19907,                 Present time : 5/25, 18 : 31\n",
      "Current_accuracy : 0.008, current_norm_ED  : 0.14\n",
      "Best accuracy    : 0.008, Best_norm_ED     : 0.16\n",
      "--------------------------------------------------------------------------------\n",
      "Ground Truth              | Prediction               | Confidence Score & T/F\n",
      "--------------------------------------------------------------------------------\n",
      "ㅁㅜㄴㅎㅘ                     | ㅅㅏㅇㄱㅘㄴ                    | 0.0023\tFalse\n",
      "ㅇㅣㄹㅜㅇㅓㅈㅣㄷㅏ                | ㄷㅏㅇ                       | 0.0315\tFalse\n",
      "ㅁㅜㄴㅎㅏㄱ                    | ㅅㅏㅇ                       | 0.1692\tFalse\n",
      "ㅎㅏㄴㅏㄴㅣㅁ                   | ㄱㅜㄴㄱㅡㅂ                    | 0.0007\tFalse\n",
      "ㅊㅓㄱ                       | ㄱㅏㅇㅓㄱ                     | 0.0050\tFalse\n",
      "--------------------------------------------------------------------------------\n"
     ]
    },
    {
     "name": "stdout",
     "output_type": "stream",
     "text": [
      "[9000/30000] Train loss : 2.77976, Valid loss : 3.98074, Elapsed time : 3395.50581,                 Present time : 5/25, 18 : 38\n",
      "Current_accuracy : 0.000, current_norm_ED  : 0.13\n",
      "Best accuracy    : 0.008, Best_norm_ED     : 0.16\n",
      "--------------------------------------------------------------------------------\n",
      "Ground Truth              | Prediction               | Confidence Score & T/F\n",
      "--------------------------------------------------------------------------------\n",
      "ㅇㅣㅈㅓㄴ                     | ㅅㅣㅇㅂㅏㅇ                    | 0.0024\tFalse\n",
      "ㅁㅜㄱㅣ                      | ㅇㅜㅈㅣ                      | 0.0535\tFalse\n",
      "ㅅㅗㅂㅣㅎㅏㄷㅏ                  | ㅈㅏㅇㅣㅁ                     | 0.0072\tFalse\n",
      "ㅇㅏㄷㅡㄴㅣㅁ                   | ㅇㅣㄹㅣㅎㅏㄷㅏ                  | 0.0057\tFalse\n",
      "ㅊㅓㄱ                       | ㅇㅢㅅㅣㅁ                     | 0.0262\tFalse\n",
      "--------------------------------------------------------------------------------\n"
     ]
    }
   ],
   "source": [
    "# def main():\n",
    "os.makedirs(f'./models/{opt.experiment_name}', exist_ok=True)\n",
    "\n",
    "# set seed\n",
    "random.seed(opt.manualSeed)\n",
    "np.random.seed(opt.manualSeed)\n",
    "torch.manual_seed(opt.manualSeed)\n",
    "torch.cuda.manual_seed(opt.manualSeed)\n",
    "\n",
    "# set GPU\n",
    "cudnn.benchmark = True\n",
    "cudnn.deterministic = True\n",
    "opt.num_gpu = torch.cuda.device_count()\n",
    "\n",
    "if opt.num_gpu > 1:\n",
    "    print('-------- Use multi GPU setting --------')\n",
    "    opt.workers = opt.workers * opt.num_gpu\n",
    "    opt.batch_size = opt.batch_size * opt.num_gpu\n",
    "\n",
    "train(opt)"
   ]
  },
  {
   "cell_type": "code",
   "execution_count": 11,
   "metadata": {
    "scrolled": true
   },
   "outputs": [],
   "source": [
    "converter = AttnLabelConverter(opt.character)\n",
    "opt.num_class = len(converter.character)\n",
    "model = CTN(opt).to(device)"
   ]
  },
  {
   "cell_type": "code",
   "execution_count": 12,
   "metadata": {},
   "outputs": [],
   "source": [
    "text, length = converter.encode(label, batch_max_length = opt.batch_max_length)\n",
    "img = img.to(device)\n",
    "text = text.to(device)"
   ]
  },
  {
   "cell_type": "code",
   "execution_count": 13,
   "metadata": {
    "scrolled": true
   },
   "outputs": [
    {
     "name": "stderr",
     "output_type": "stream",
     "text": [
      "/usr/local/lib/python3.6/dist-packages/torch/nn/functional.py:1569: UserWarning: nn.functional.sigmoid is deprecated. Use torch.sigmoid instead.\n",
      "  warnings.warn(\"nn.functional.sigmoid is deprecated. Use torch.sigmoid instead.\")\n"
     ]
    }
   ],
   "source": [
    "output = model(img,text)"
   ]
  },
  {
   "cell_type": "code",
   "execution_count": 13,
   "metadata": {
    "collapsed": true
   },
   "outputs": [
    {
     "name": "stderr",
     "output_type": "stream",
     "text": [
      "/usr/local/lib/python3.6/dist-packages/torch/nn/functional.py:1569: UserWarning: nn.functional.sigmoid is deprecated. Use torch.sigmoid instead.\n",
      "  warnings.warn(\"nn.functional.sigmoid is deprecated. Use torch.sigmoid instead.\")\n"
     ]
    }
   ],
   "source": [
    "# ext_output = model.Extract(trans_output)\n",
    "# ext_output_ = ext_output.permute(0, 3,1,2).squeeze(3)\n",
    "# seq_output = model.Seq(ext_output_)\n",
    "# pred_output = model.Pred(seq_output, text)\n",
    "# output.shape"
   ]
  },
  {
   "cell_type": "code",
   "execution_count": 18,
   "metadata": {},
   "outputs": [],
   "source": [
    "torch.cuda.empty_cache() "
   ]
  },
  {
   "cell_type": "code",
   "execution_count": null,
   "metadata": {},
   "outputs": [],
   "source": []
  },
  {
   "cell_type": "code",
   "execution_count": null,
   "metadata": {},
   "outputs": [],
   "source": []
  }
 ],
 "metadata": {
  "kernelspec": {
   "display_name": "Python 3",
   "language": "python",
   "name": "python3"
  },
  "language_info": {
   "codemirror_mode": {
    "name": "ipython",
    "version": 3
   },
   "file_extension": ".py",
   "mimetype": "text/x-python",
   "name": "python",
   "nbconvert_exporter": "python",
   "pygments_lexer": "ipython3",
   "version": "3.6.7"
  }
 },
 "nbformat": 4,
 "nbformat_minor": 2
}
