{
 "cells": [
  {
   "cell_type": "code",
   "execution_count": 1,
   "metadata": {},
   "outputs": [],
   "source": [
    "import json\n",
    "import PIL as pil\n",
    "import pandas as pd\n",
    "import os\n",
    "import sys\n",
    "import random\n",
    "import torch\n",
    "import torch.backends.cudnn as cudnn\n",
    "import torch.nn.init as init\n",
    "import torch.optim as optim\n",
    "import torch.utils.data\n",
    "import numpy as np\n",
    "import time\n",
    "from PIL import Image\n",
    "from tqdm import tqdm\n",
    "import easydict\n",
    "import time\n",
    "\n",
    "import sys\n",
    "import re\n",
    "import six\n",
    "import math\n",
    "import torchvision.transforms as transforms\n",
    "\n",
    "from utils import AttnLabelConverter, Averager, AlignCollate\n",
    "import utils\n",
    "from Trans import TPS_SpatialTransformerNetwork\n",
    "import Trans\n",
    "from Extract import RCNN_extractor\n",
    "from Extract import EfficientNet\n",
    "import Extract\n",
    "from Seq import BidirectionalLSTM\n",
    "import Seq\n",
    "from Pred import Attention\n",
    "import Pred\n",
    "import torch.nn as nn\n",
    "from torch.utils.data import *\n",
    "from jamo import h2j, j2hcj\n",
    "import gc\n",
    "\n",
    "def json_loader(path):\n",
    "    with open(path, 'r') as json_file:\n",
    "        file = json.load(json_file)\n",
    "    return file\n",
    "\n",
    "def img_annot_split(label):\n",
    "    label_images = pd.DataFrame(label['images'])\n",
    "    label_annot = pd.DataFrame(label['annotations'])\n",
    "    return label_images, label_annot"
   ]
  },
  {
   "cell_type": "code",
   "execution_count": 2,
   "metadata": {
    "scrolled": true
   },
   "outputs": [
    {
     "data": {
      "text/plain": [
       "<module 'Trans' from '/Data/FoodDetection/AI_OCR/Trans.py'>"
      ]
     },
     "execution_count": 2,
     "metadata": {},
     "output_type": "execute_result"
    }
   ],
   "source": [
    "import importlib\n",
    "importlib.reload(Trans)"
   ]
  },
  {
   "cell_type": "markdown",
   "metadata": {},
   "source": [
    "### arguements"
   ]
  },
  {
   "cell_type": "code",
   "execution_count": 2,
   "metadata": {},
   "outputs": [],
   "source": [
    "# opt\n",
    "opt = easydict.EasyDict({\n",
    "    \"experiment_name\" : 'first_0520',\n",
    "    \"manualSeed\" : 1111,\n",
    "    \"imgH\" : 35 ,\n",
    "    \"imgW\" :  90,\n",
    "    \"PAD\" : True ,\n",
    "    'batch_size' : 256,\n",
    "    'data_filtering_off' : True,\n",
    "    'workers' : 20,\n",
    "    'rgb' :True,\n",
    "    'sensitive' : True,\n",
    "    'character' : '0123456789ㄱㄲㄴㄷㄸㄹㅁㅂㅃㅅㅆㅇㅈㅉㅊㅋㅌㅍㅎㄵㄶㄺㄻㅀㄼㅄㅏㅑㅓㅕㅗㅛㅜㅠㅡㅣㅐㅒㅔㅖㅢㅟㅝㅞㅚㅘㅙ!\"#$%&\\'()*+,-./:;<=>?@[\\\\]^_`{|}~' ,\n",
    "    'batch_max_length' : 25,\n",
    "    'num_fiducial' : 20,\n",
    "    'output_channel' : 512,\n",
    "    'hidden_size' :256,\n",
    "    'lr' : 1,\n",
    "    'rho' : 0.95,\n",
    "    'eps' : 1e-8,\n",
    "    'grad_clip' : 5,\n",
    "    'valInterval' : 20,\n",
    "    'num_iter' : 3000,\n",
    "    'input_channel' : 3\n",
    "    })\n",
    "\n",
    "device = torch.device('cuda:1') #utils.py 안에 device는 따로 세팅해줘야함"
   ]
  },
  {
   "cell_type": "code",
   "execution_count": 3,
   "metadata": {},
   "outputs": [],
   "source": [
    "# eff = EfficientNet()\n",
    "# trans_output = torch.FloatTensor(10, 3, opt.imgH, opt.imgH)\n",
    "# feature_output = eff(trans_output)\n",
    "# feature_output.shape"
   ]
  },
  {
   "cell_type": "markdown",
   "metadata": {},
   "source": [
    "### dataset"
   ]
  },
  {
   "cell_type": "code",
   "execution_count": 3,
   "metadata": {},
   "outputs": [
    {
     "name": "stderr",
     "output_type": "stream",
     "text": [
      "100%|██████████| 359997/359997 [00:20<00:00, 17461.06it/s]\n"
     ]
    }
   ],
   "source": [
    "base_path = '/Data/KoreanSTR/'\n",
    "\n",
    "# path_wild = '/Data/KoreanSTR/textinthewild_data_info.json'\n",
    "# path_printed = '/Data/KoreanSTR/printed_data_info.json'\n",
    "path_hand = '/Data/KoreanSTR/handwriting_data_info1.json'\n",
    "# path_aug = '/Data/KoreanSTR/augmentation_data_info.json'\n",
    "\n",
    "label_hand = json_loader(path_hand)\n",
    "label_hand_images, label_hand_annot = img_annot_split(label_hand)\n",
    "\n",
    "label_hand_annot = label_hand_annot[['id','text']]\n",
    "\n",
    "dataset = '1_word'\n",
    "file_list_word = os.listdir(os.path.join(base_path, dataset))\n",
    "files_word = pd.DataFrame(file_list_word, columns=['file_name'])\n",
    "files_word['id'] = files_word['file_name'].apply(lambda x : x.replace('.png',''))\n",
    "files_labels = pd.merge(files_word, label_hand_annot, how='left', left_on='id',right_on='id' )\n",
    "\n",
    "word_data = []\n",
    "random_idx = np.random.choice(range(len(files_labels)), size= int(len(files_labels) * 1), replace=False)\n",
    "for file in tqdm(files_labels.loc[random_idx]['file_name']):\n",
    "#     img_arr = np.asarray(Image.open(os.path.join(base_path, dataset, file)))\n",
    "    img_arr = Image.open(os.path.join(base_path, dataset, file))\n",
    "    word_data.append(img_arr)\n",
    "    \n",
    "labels = [j2hcj(h2j(x)) for x in files_labels['text']]\n",
    "\n",
    "Dataset = []\n",
    "for img, text in zip(word_data, labels):\n",
    "    Dataset.append((img, text))"
   ]
  },
  {
   "cell_type": "code",
   "execution_count": 28,
   "metadata": {
    "collapsed": true
   },
   "outputs": [
    {
     "name": "stdout",
     "output_type": "stream",
     "text": [
      "(194, 294, 3)\n"
     ]
    },
    {
     "data": {
      "image/png": "[encoded data removed]",
      "text/plain": [
       "<PIL.PngImagePlugin.PngImageFile image mode=RGB size=294x194 at 0x7FE514589668>"
      ]
     },
     "execution_count": 28,
     "metadata": {},
     "output_type": "execute_result"
    }
   ],
   "source": [
    "idx = 3000\n",
    "print(np.array(Dataset[idx][0]).shape)\n",
    "Dataset[idx][0]"
   ]
  },
  {
   "cell_type": "code",
   "execution_count": 4,
   "metadata": {},
   "outputs": [],
   "source": [
    "_AlignCollate = utils.AlignCollate(imgH=opt.imgH, imgW=opt.imgW, keep_ratio_with_pad=True)\n",
    "data_loader = DataLoader(Dataset[:int(len(Dataset)*0.9)], batch_size = opt.batch_size, shuffle=True, num_workers = 0, \n",
    "                         collate_fn = _AlignCollate,pin_memory=False )\n",
    "data_loader_iter = iter(data_loader)\n",
    "\n",
    "#for valid\n",
    "_AlignCollate_valid = utils.AlignCollate(imgH=opt.imgH, imgW=opt.imgW, keep_ratio_with_pad=True)\n",
    "valid_loader = DataLoader(Dataset[int(len(Dataset)*0.9) : ], batch_size = opt.batch_size, shuffle =True, num_workers=0, \n",
    "                          collate_fn=_AlignCollate_valid)"
   ]
  },
  {
   "cell_type": "code",
   "execution_count": 6,
   "metadata": {},
   "outputs": [],
   "source": [
    "img, label = data_loader_iter.next()"
   ]
  },
  {
   "cell_type": "code",
   "execution_count": 7,
   "metadata": {},
   "outputs": [
    {
     "data": {
      "text/plain": [
       "torch.Size([256, 3, 150, 450])"
      ]
     },
     "execution_count": 7,
     "metadata": {},
     "output_type": "execute_result"
    }
   ],
   "source": [
    "img.shape"
   ]
  },
  {
   "cell_type": "markdown",
   "metadata": {},
   "source": [
    "### model"
   ]
  },
  {
   "cell_type": "code",
   "execution_count": 5,
   "metadata": {},
   "outputs": [],
   "source": [
    "class CTN(nn.Module):\n",
    "    def __init__(self, opt):\n",
    "        super(CTN, self).__init__()\n",
    "        self.opt = opt\n",
    "        \n",
    "        #Trans\n",
    "        self.Trans = Trans.TPS_SpatialTransformerNetwork(F = opt.num_fiducial,\n",
    "                                                  i_size = (opt.imgH, opt.imgW), \n",
    "                                                  i_r_size= (opt.imgH, opt.imgW), \n",
    "                                                  i_channel_num=opt.input_channel,\n",
    "                                                        device = device)\n",
    "        #Extract\n",
    "#         self.Extract = Extract.RCNN_extractor(opt.input_channel, opt.output_channel)\n",
    "#         self.FeatureExtraction_output = opt.output_channel # (imgH/16 -1 )* 512\n",
    "        self.AdaptiveAvgPool = nn.AdaptiveAvgPool2d((None,1)) # imgH/16-1   ->  1\n",
    "        self.Extract = EfficientNet()\n",
    "        \n",
    "        \n",
    "         \n",
    "        # Sequence\n",
    "        self.Seq = nn.Sequential(\n",
    "#             BidirectionalLSTM(self.FeatureExtraction_output, opt.hidden_size,  opt.hidden_size),\n",
    "            BidirectionalLSTM(1536, opt.hidden_size,  opt.hidden_size),\n",
    "            BidirectionalLSTM(opt.hidden_size, opt.hidden_size, opt.hidden_size))\n",
    "        self.Seq_output = opt.hidden_size\n",
    "        \n",
    "        #Pred\n",
    "        self.Pred = Pred.Attention(self.Seq_output, opt.hidden_size, opt.num_class, device=device)\n",
    "        \n",
    "        \n",
    "    def forward(self, input, text, is_train=True):\n",
    "        #Trans stage\n",
    "        input = self.Trans(input)\n",
    "        \n",
    "        #Extract stage\n",
    "        visual_feature = self.Extract(input)\n",
    "        visual_feature = self.AdaptiveAvgPool(visual_feature.permute(0, 3, 1, 2))\n",
    "        visual_feature = visual_feature.squeeze(3)\n",
    "        \n",
    "        #Seq stage\n",
    "        contextual_feature = self.Seq(visual_feature)\n",
    "        #Pred stage\n",
    "        prediction = self.Pred(contextual_feature.contiguous(), text, is_train, batch_max_length = self.opt.batch_max_length)\n",
    "\n",
    "        return prediction"
   ]
  },
  {
   "cell_type": "code",
   "execution_count": null,
   "metadata": {},
   "outputs": [],
   "source": [
    "def train(opt):\n",
    "    converter = AttnLabelConverter(opt.character)\n",
    "    opt.num_class = len(converter.character)\n",
    "    \n",
    "    model = CTN(opt)\n",
    "    print('model parameters. height {}, width {}, num of fiducial {}, input channel {}, output channel {}, hidden size {}, num class {},\\\n",
    "    batch max length {}'.format(opt.imgH, opt.imgW, opt.num_fiducial, opt.input_channel, opt.output_channel, opt.hidden_size, opt.num_class,\n",
    "                               opt.batch_max_length))\n",
    "    \n",
    "    # weight initialization\n",
    "    for name, param, in model.named_parameters():\n",
    "        if 'localization_fc2' in name:\n",
    "            print(f'Skip {name} as it is already initializaed')\n",
    "            continue\n",
    "        try:\n",
    "            if 'bias' in name:\n",
    "                init.constant_(param, 0.0)\n",
    "            elif 'weight' in name:\n",
    "                init.kaiming_normal_(param)\n",
    "                \n",
    "        except Exception as e :\n",
    "            if 'weight' in name:\n",
    "                param.data.fill_(1)\n",
    "            continue\n",
    "            \n",
    "    #data parallel for multi GPU\n",
    "#     model = torch.nn.DataParallel(model, device_ids = [0,1]).to(device)\n",
    "    model.to(device)\n",
    "    model.train()\n",
    "    \n",
    "    # loss\n",
    "    criterion = torch.nn.CrossEntropyLoss(ignore_index=0).to(device) #ignore [GO] token = ignore index 0\n",
    "    log_avg = Averager()\n",
    "    \n",
    "    # filter that only require gradient descent\n",
    "    filtered_parameters = []\n",
    "    params_num = []\n",
    "    for p in filter(lambda p : p.requires_grad, model.parameters()):\n",
    "        filtered_parameters.append(p)\n",
    "        params_num.append(np.prod(p.size()))\n",
    "    print('Tranable params : ', sum(params_num))\n",
    "    \n",
    "    # optimizer\n",
    "    optimizer = optim.Adadelta(filtered_parameters, lr= opt.lr, rho = opt.rho, eps = opt.eps)\n",
    "    \n",
    "    # opt log\n",
    "    with open(f'./models/{opt.experiment_name}/opt.txt', 'a') as opt_file:\n",
    "        opt_log = '---------------------Options-----------------\\n'\n",
    "        args = vars(opt)\n",
    "        for k, v in args.items():\n",
    "            opt_log +=f'{str(k)} : {str(v)}\\n'\n",
    "        opt_log +='---------------------------------------------\\n'\n",
    "        opt_file.write(opt_log)\n",
    "        \n",
    "    #start training\n",
    "    start_iter = 0\n",
    "    \n",
    "    start_time = time.time()\n",
    "    best_accuracy = -1\n",
    "    best_norm_ED = -1\n",
    "    i = start_iter\n",
    "    \n",
    "    while(True):\n",
    "        image_tensors, labels = data_loader_iter.next()\n",
    "        image = image_tensors.to(device)\n",
    "        text, length = converter.encode(labels, batch_max_length = opt.batch_max_length)\n",
    "\n",
    "        batch_size = image.size(0)\n",
    "        \n",
    "\n",
    "        preds = model(image, text[:, : -1])\n",
    "        target = text[:, 1:]\n",
    "\n",
    "        cost = criterion(preds.view(-1, preds.shape[-1]), target.contiguous().view(-1))\n",
    "        \n",
    "        loss_avg = Averager()\n",
    "        \n",
    "        model.zero_grad()\n",
    "        cost.backward()\n",
    "        torch.nn.utils.clip_grad_norm_(model.parameters(), opt.grad_clip) #gradient clipping with 5\n",
    "        optimizer.step()\n",
    "\n",
    "        loss_avg.add(cost)\n",
    "\n",
    "        #validation\n",
    "        if i % opt.valInterval == 0:\n",
    "            elapsed_time = time.time() - start_time\n",
    "            with open(f'./models/{opt.experiment_name}/log_train.txt', 'a') as log:\n",
    "                model.eval()\n",
    "                with torch.no_grad():\n",
    "                    valid_loss, current_accuracy, current_norm_ED, preds, confidence_score, labels, infer_time, length_of_data = utils.validation(\n",
    "                        model, criterion, valid_loader, converter, opt)\n",
    "\n",
    "                model.train()\n",
    "                present_time = time.localtime()\n",
    "                loss_log = f'[{i}/{opt.num_iter}] Train loss : {loss_avg.val():0.5f}, Valid loss : {valid_loss:0.5f}, Elapsed time : {elapsed_time:0.5f}, \\\n",
    "                Present time : {present_time[1]}/{present_time[2]}, {present_time[3]+9} : {present_time[4]}'\n",
    "                loss_avg.reset()\n",
    "\n",
    "\n",
    "                current_model_log = f'{\"Current_accuracy\":17s}: {current_accuracy:0.3f}, {\"current_norm_ED\":17s}: {current_norm_ED:0.2f}'\n",
    "\n",
    "\n",
    "                #keep the best\n",
    "                if current_accuracy > best_accuracy:\n",
    "                    best_accuracy = current_accuracy\n",
    "                    torch.save(model.state_dict(), f'./models/{opt.experiment_name}/best_accuracy.pth')\n",
    "\n",
    "                if current_norm_ED > best_norm_ED:\n",
    "                    best_norm_ED = current_norm_ED\n",
    "                    torch.save(model.state_dict(), f'./models/{opt.experiment_name}/best_norm_ED.pth')\n",
    "\n",
    "                best_model_log = f'{\"Best accuracy\":17s}: {best_accuracy:0.3f}, {\"Best_norm_ED\":17s}: {best_norm_ED:0.2f}'\n",
    "                loss_model_log = f'{loss_log}\\n{current_model_log}\\n{best_model_log}'\n",
    "                print(loss_model_log)\n",
    "                log.write(loss_model_log+'\\n')\n",
    "\n",
    "\n",
    "                dashed_line = '-'*80\n",
    "                head = f'{\"Ground Truth\":25s} | {\"Prediction\" :25s}| Confidence Score & T/F'\n",
    "                predicted_result_log = f'{dashed_line}\\n{head}\\n{dashed_line}\\n'\n",
    "\n",
    "                for gt, pred, confidence in zip(labels[:5], preds[:5], confidence_score[:5]):\n",
    "#                     if 'Attn' in opt.Prediction:\n",
    "                    gt = gt[: gt.find('[s]')]\n",
    "                    pred = pred[: pred.find('[s]')]\n",
    "\n",
    "                    predicted_result_log += f'{gt:25s} | {pred:25s} | {confidence:0.4f}\\t{str(pred == gt)}\\n'\n",
    "                predicted_result_log += f'{dashed_line}'\n",
    "                print(predicted_result_log)\n",
    "                log.write(predicted_result_log+'\\n')\n",
    "\n",
    "\n",
    "        if (i+1)% 1e+5 ==0:\n",
    "            torch.save(model.state_dict(), f'./models/{opt.experiment_name}/iter_{i+1}.pth')\n",
    "\n",
    "\n",
    "        if i==opt.num_iter:\n",
    "            print('end of training')\n",
    "\n",
    "        i +=1\n"
   ]
  },
  {
   "cell_type": "code",
   "execution_count": null,
   "metadata": {
    "scrolled": true
   },
   "outputs": [
    {
     "name": "stdout",
     "output_type": "stream",
     "text": [
      "-------- Use multi GPU setting --------\n",
      "model parameters. height 35, width 90, num of fiducial 20, input channel 3, output channel 512, hidden size 256, num class 91,    batch max length 25\n",
      "Skip Trans.LocalizationNetwork.localization_fc2.weight as it is already initializaed\n",
      "Skip Trans.LocalizationNetwork.localization_fc2.bias as it is already initializaed\n",
      "Tranable params :  18293574\n",
      "[0/3000] Train loss : 4.49904, Valid loss : 4.50357, Elapsed time : 2.66336,                 Present time : 5/21, 18 : 6\n",
      "Current_accuracy : 0.000, current_norm_ED  : 0.01\n",
      "Best accuracy    : 0.000, Best_norm_ED     : 0.01\n",
      "--------------------------------------------------------------------------------\n",
      "Ground Truth              | Prediction               | Confidence Score & T/F\n",
      "--------------------------------------------------------------------------------\n",
      "ㅋㅣㄹㄹㅗㄱㅡㄹㅐㅁ                | \\\\++++ㅊ??ㅊ?<ㅈ8ㄺ=ㄶ/ㅉ171ㅒ+ㅊ | 0.0000\tFalse\n",
      "ㅈㅜㅁㅜㄴ                     | \\\\++++ㅊ??ㅊ?<ㅈ8ㄺ=ㄶ/ㅉ171ㅒ+ㅊ | 0.0000\tFalse\n",
      "ㅈㅏㅈㅓㄴㄱㅓ                   | \\\\++++ㅊ??ㅊ?<ㅈ8ㄺ=ㄶ/ㅉ171ㅒ+ㅊ | 0.0000\tFalse\n",
      "ㄱㅕㅇㄱㅖ                     | \\\\++++ㅊ??ㅊ?<ㅈ8ㄺ=ㄶ/ㅉ171ㅒ+ㅊ | 0.0000\tFalse\n",
      "ㄷㅡㄹㄹㅣㄷㅏ                   | \\\\++++ㅊ??ㅊ?<ㅈ8ㄺ=ㄶ/ㅉ171ㅒ+ㅊ | 0.0000\tFalse\n",
      "--------------------------------------------------------------------------------\n",
      "[20/3000] Train loss : 4.45507, Valid loss : 4.47348, Elapsed time : 176.63600,                 Present time : 5/21, 18 : 8\n",
      "Current_accuracy : 0.000, current_norm_ED  : 0.08\n",
      "Best accuracy    : 0.000, Best_norm_ED     : 0.08\n",
      "--------------------------------------------------------------------------------\n",
      "Ground Truth              | Prediction               | Confidence Score & T/F\n",
      "--------------------------------------------------------------------------------\n",
      "ㅇㅗㄹㄹㅏㄱㅏㄷㅏ                 | \\ㄴ{ㅏㅏㅏㅏㅏ^                 | 0.0000\tFalse\n",
      "ㅇㅓㄴㄷㅓㄱ                    | \\ㄴ{ㅏㅏㅏㅏㅏ^                 | 0.0000\tFalse\n",
      "ㅈㅔㅇㅏㄴㅎㅏㄷㅏ                 | \\ㄴ{ㅏㅏㅏㅏㅏ^                 | 0.0000\tFalse\n",
      "ㅅㅏㅌㅏㅇ                     | \\ㄴ{ㅏㅏㅏㅏㅏ^                 | 0.0000\tFalse\n",
      "ㄱㅓㄴㅅㅓㄹㅎㅏㄷㅏ                | \\ㄴ{ㅏㅏㅏㅏㅏ^                 | 0.0000\tFalse\n",
      "--------------------------------------------------------------------------------\n",
      "[40/3000] Train loss : 4.42985, Valid loss : 4.46546, Elapsed time : 289.48840,                 Present time : 5/21, 18 : 9\n",
      "Current_accuracy : 0.000, current_norm_ED  : 0.00\n",
      "Best accuracy    : 0.000, Best_norm_ED     : 0.08\n",
      "--------------------------------------------------------------------------------\n",
      "Ground Truth              | Prediction               | Confidence Score & T/F\n",
      "--------------------------------------------------------------------------------\n",
      "ㅇㅓㄷㅜㅁ                     | \\                         | 0.0117\tFalse\n",
      "ㄴㅗㄱㅎㅘ                     | \\                         | 0.0117\tFalse\n",
      "ㄱㅜㄴㅅㅏ                     | \\                         | 0.0117\tFalse\n",
      "ㅅㅗㅇㅠ                      | \\                         | 0.0117\tFalse\n",
      "ㅊㅐ                        | \\                         | 0.0117\tFalse\n",
      "--------------------------------------------------------------------------------\n",
      "[60/3000] Train loss : 4.38301, Valid loss : 4.43488, Elapsed time : 401.52438,                 Present time : 5/21, 18 : 12\n",
      "Current_accuracy : 0.000, current_norm_ED  : 0.00\n",
      "Best accuracy    : 0.000, Best_norm_ED     : 0.08\n",
      "--------------------------------------------------------------------------------\n",
      "Ground Truth              | Prediction               | Confidence Score & T/F\n",
      "--------------------------------------------------------------------------------\n",
      "ㅈㅣㅂㅐㅎㅏㄷㅏ                  |                           | 0.0000\tFalse\n",
      "ㄱㅘㅇㄱㅕㅇ                    |                           | 0.0000\tFalse\n",
      "ㅈㅏㄹㄹㅣㄷㅏ                   |                           | 0.0000\tFalse\n",
      "ㅇㅖㅅㅣㄱㅈㅏㅇ                  |                           | 0.0000\tFalse\n",
      "ㄱㅡㅇㅑㅁㅏㄹㄹㅗ                 |                           | 0.0000\tFalse\n",
      "--------------------------------------------------------------------------------\n",
      "[80/3000] Train loss : 4.36934, Valid loss : 4.41083, Elapsed time : 551.35910,                 Present time : 5/21, 18 : 14\n",
      "Current_accuracy : 0.000, current_norm_ED  : 0.00\n",
      "Best accuracy    : 0.000, Best_norm_ED     : 0.08\n",
      "--------------------------------------------------------------------------------\n",
      "Ground Truth              | Prediction               | Confidence Score & T/F\n",
      "--------------------------------------------------------------------------------\n",
      "ㅂㅐ                        |                           | 0.0000\tFalse\n",
      "ㅇㅓㄹㅣㄴㅇㅏㅇㅣ                 |                           | 0.0000\tFalse\n",
      "ㅊㅏㅅㅈㅏㄴ                    |                           | 0.0000\tFalse\n",
      "ㅈㅓㄴㅎㅘ                     |                           | 0.0000\tFalse\n",
      "ㅊㅗㅂㅏㄴ                     |                           | 0.0000\tFalse\n",
      "--------------------------------------------------------------------------------\n",
      "[100/3000] Train loss : 4.35033, Valid loss : 4.38934, Elapsed time : 700.74841,                 Present time : 5/21, 18 : 17\n",
      "Current_accuracy : 0.000, current_norm_ED  : 0.00\n",
      "Best accuracy    : 0.000, Best_norm_ED     : 0.08\n",
      "--------------------------------------------------------------------------------\n",
      "Ground Truth              | Prediction               | Confidence Score & T/F\n",
      "--------------------------------------------------------------------------------\n",
      "ㅌㅓㄱ                       |                           | 0.0000\tFalse\n",
      "ㅎㅕㄴㄷㅐㅈㅓㄱ                  |                           | 0.0000\tFalse\n",
      "ㅂㅣ                        |                           | 0.0000\tFalse\n",
      "ㅅㅏㄴㅇㅓㅂ                    |                           | 0.0000\tFalse\n",
      "ㅂㅜㄹㅎㅐㅇ                    |                           | 0.0000\tFalse\n",
      "--------------------------------------------------------------------------------\n",
      "[120/3000] Train loss : 4.32030, Valid loss : 4.35870, Elapsed time : 850.07863,                 Present time : 5/21, 18 : 19\n",
      "Current_accuracy : 0.000, current_norm_ED  : 0.00\n",
      "Best accuracy    : 0.000, Best_norm_ED     : 0.08\n",
      "--------------------------------------------------------------------------------\n",
      "Ground Truth              | Prediction               | Confidence Score & T/F\n",
      "--------------------------------------------------------------------------------\n",
      "ㅈㅣㅂㅐㅎㅏㄷㅏ                  |                           | 0.0000\tFalse\n",
      "ㄷㅜㄴㅚ                      |                           | 0.0000\tFalse\n",
      "ㅊㅣㅁㄷㅐ                     |                           | 0.0000\tFalse\n",
      "ㅅㅣㅈㅣㅂ                     |                           | 0.0000\tFalse\n",
      "ㄱㅗㅇㅈㅜ                     |                           | 0.0000\tFalse\n",
      "--------------------------------------------------------------------------------\n",
      "[140/3000] Train loss : 4.27645, Valid loss : 4.33140, Elapsed time : 999.67000,                 Present time : 5/21, 18 : 22\n",
      "Current_accuracy : 0.000, current_norm_ED  : 0.00\n",
      "Best accuracy    : 0.000, Best_norm_ED     : 0.08\n",
      "--------------------------------------------------------------------------------\n",
      "Ground Truth              | Prediction               | Confidence Score & T/F\n",
      "--------------------------------------------------------------------------------\n",
      "ㅈㅗㄴㅈㅜㅇㅎㅏㄷㅏ                |                           | 0.0000\tFalse\n",
      "ㅇㅣㅅㄸㅏㄹㅡㄷㅏ                 |                           | 0.0000\tFalse\n",
      "ㄱㅡㅇㅑㅁㅏㄹㄹㅗ                 |                           | 0.0000\tFalse\n",
      "ㄲㅡㄶㅇㅓㅈㅣㄷㅏ                 |                           | 0.0000\tFalse\n",
      "ㅅㅏㄴㅂㅜㅇㅣㄴㄱㅘ                |                           | 0.0000\tFalse\n",
      "--------------------------------------------------------------------------------\n",
      "[160/3000] Train loss : 4.26988, Valid loss : 4.30017, Elapsed time : 1149.52106,                 Present time : 5/21, 18 : 24\n",
      "Current_accuracy : 0.000, current_norm_ED  : 0.00\n",
      "Best accuracy    : 0.000, Best_norm_ED     : 0.08\n",
      "--------------------------------------------------------------------------------\n",
      "Ground Truth              | Prediction               | Confidence Score & T/F\n",
      "--------------------------------------------------------------------------------\n",
      "ㅈㅜㅁㅏㄹ                     |                           | 0.0000\tFalse\n",
      "ㅊㅜㄱㅎㅏ                     |                           | 0.0000\tFalse\n",
      "ㄱㅠㅁㅗ                      |                           | 0.0000\tFalse\n",
      "ㅅㅓㅂㅣㅅㅡ                    |                           | 0.0000\tFalse\n",
      "ㅅㅣㄴㄱㅗ                     |                           | 0.0000\tFalse\n",
      "--------------------------------------------------------------------------------\n"
     ]
    },
    {
     "name": "stdout",
     "output_type": "stream",
     "text": [
      "[180/3000] Train loss : 4.21548, Valid loss : 4.24809, Elapsed time : 1299.55713,                 Present time : 5/21, 18 : 27\n",
      "Current_accuracy : 0.000, current_norm_ED  : 0.00\n",
      "Best accuracy    : 0.000, Best_norm_ED     : 0.08\n",
      "--------------------------------------------------------------------------------\n",
      "Ground Truth              | Prediction               | Confidence Score & T/F\n",
      "--------------------------------------------------------------------------------\n",
      "ㅅㅜㅋㅓㅅ                     |                           | 0.0000\tFalse\n",
      "ㅈㅏㅇㅇㅐㅇㅣㄴ                  |                           | 0.0000\tFalse\n",
      "ㅍㅜㅁㄷㅏ                     |                           | 0.0000\tFalse\n",
      "ㅈㅜㅇㅇㅛㅎㅏㄷㅏ                 |                           | 0.0000\tFalse\n",
      "ㅇㅛㅇㅅㅓㅎㅏㄷㅏ                 |                           | 0.0000\tFalse\n",
      "--------------------------------------------------------------------------------\n",
      "[200/3000] Train loss : 4.17933, Valid loss : 4.21072, Elapsed time : 1449.74043,                 Present time : 5/21, 18 : 29\n",
      "Current_accuracy : 0.000, current_norm_ED  : 0.00\n",
      "Best accuracy    : 0.000, Best_norm_ED     : 0.08\n",
      "--------------------------------------------------------------------------------\n",
      "Ground Truth              | Prediction               | Confidence Score & T/F\n",
      "--------------------------------------------------------------------------------\n",
      "ㄷㅗㄱㄱㅏㅁ                    |                           | 0.0000\tFalse\n",
      "ㅇㅜㄹㅕ                      |                           | 0.0000\tFalse\n",
      "ㄷㅏㄴㅅㅜㄴㅎㅣ                  |                           | 0.0000\tFalse\n",
      "ㄱㅣㄱㅖ                      |                           | 0.0000\tFalse\n",
      "ㄱㅓㄷㅡㅂ                     |                           | 0.0000\tFalse\n",
      "--------------------------------------------------------------------------------\n",
      "[220/3000] Train loss : 4.12803, Valid loss : 4.17492, Elapsed time : 1600.04297,                 Present time : 5/21, 18 : 32\n",
      "Current_accuracy : 0.000, current_norm_ED  : 0.00\n",
      "Best accuracy    : 0.000, Best_norm_ED     : 0.08\n",
      "--------------------------------------------------------------------------------\n",
      "Ground Truth              | Prediction               | Confidence Score & T/F\n",
      "--------------------------------------------------------------------------------\n",
      "ㅇㅣㄹㅐ                      |                           | 0.0000\tFalse\n",
      "ㅁㅗㄹㅡㄷㅏ                    |                           | 0.0000\tFalse\n",
      "ㅅㅣㄹㅈㅔㄹㅗ                   |                           | 0.0000\tFalse\n",
      "ㅅㅜㅅㅏㅇ                     |                           | 0.0000\tFalse\n",
      "ㄸㅡㅅㅂㅏㄲㅇㅔ                  |                           | 0.0000\tFalse\n",
      "--------------------------------------------------------------------------------\n",
      "[240/3000] Train loss : 4.08055, Valid loss : 4.11242, Elapsed time : 1750.49982,                 Present time : 5/21, 18 : 34\n",
      "Current_accuracy : 0.000, current_norm_ED  : 0.00\n",
      "Best accuracy    : 0.000, Best_norm_ED     : 0.08\n",
      "--------------------------------------------------------------------------------\n",
      "Ground Truth              | Prediction               | Confidence Score & T/F\n",
      "--------------------------------------------------------------------------------\n",
      "ㅂㅏㅇㅁㅜㄴㅎㅏㄷㅏ                |                           | 0.0000\tFalse\n",
      "ㅌㅓㄸㅡㄹㅣㄷㅏ                  |                           | 0.0000\tFalse\n",
      "ㅈㅓㅁㅅㅣㅁ                    |                           | 0.0000\tFalse\n",
      "ㄴㅐㅁㅣㄹㄷㅏ                   |                           | 0.0000\tFalse\n",
      "ㅅㅓㅋㅡㄹ                     |                           | 0.0000\tFalse\n",
      "--------------------------------------------------------------------------------\n"
     ]
    }
   ],
   "source": [
    "os.makedirs(f'./models/{opt.experiment_name}', exist_ok=True)\n",
    "\n",
    "# set seed\n",
    "random.seed(opt.manualSeed)\n",
    "np.random.seed(opt.manualSeed)\n",
    "torch.manual_seed(opt.manualSeed)\n",
    "torch.cuda.manual_seed(opt.manualSeed)\n",
    "\n",
    "# set GPU\n",
    "cudnn.benchmark = True\n",
    "cudnn.deterministic = True\n",
    "opt.num_gpu = torch.cuda.device_count()\n",
    "\n",
    "if opt.num_gpu > 1:\n",
    "    print('-------- Use multi GPU setting --------')\n",
    "    opt.workers = opt.workers * opt.num_gpu\n",
    "    opt.batch_size = opt.batch_size * opt.num_gpu\n",
    "    \n",
    "train(opt)"
   ]
  },
  {
   "cell_type": "code",
   "execution_count": null,
   "metadata": {},
   "outputs": [],
   "source": [
    "converter = AttnLabelConverter(opt.character)\n",
    "image = img.to(device)\n",
    "text, length = converter.encode(label, batch_max_length = opt.batch_max_length)\n",
    "batch_size = image.size(0)"
   ]
  },
  {
   "cell_type": "code",
   "execution_count": null,
   "metadata": {},
   "outputs": [],
   "source": [
    "preds = model(image, text[:, : -1])\n",
    "target = text[:, 1:]\n",
    "# cost = criterion(preds.view(-1, preds.shape[-1]), target.contiguous().view(-1))"
   ]
  },
  {
   "cell_type": "code",
   "execution_count": 21,
   "metadata": {},
   "outputs": [],
   "source": [
    "converter = AttnLabelConverter(opt.character)\n",
    "opt.num_class = len(converter.character)\n",
    "model = CTN(opt)"
   ]
  },
  {
   "cell_type": "code",
   "execution_count": 17,
   "metadata": {},
   "outputs": [],
   "source": [
    "model = model.to('cpu')"
   ]
  },
  {
   "cell_type": "code",
   "execution_count": 22,
   "metadata": {},
   "outputs": [],
   "source": [
    "test = torch.FloatTensor(1, 3, opt.imgH, opt.imgW).fill_(0)"
   ]
  },
  {
   "cell_type": "code",
   "execution_count": 23,
   "metadata": {
    "collapsed": true
   },
   "outputs": [
    {
     "ename": "RuntimeError",
     "evalue": "CUDA error: out of memory",
     "output_type": "error",
     "traceback": [
      "\u001b[0;31m\u001b[0m",
      "\u001b[0;31mRuntimeError\u001b[0mTraceback (most recent call last)",
      "\u001b[0;32m<ipython-input-23-54f3d19ad89c>\u001b[0m in \u001b[0;36m<module>\u001b[0;34m\u001b[0m\n\u001b[0;32m----> 1\u001b[0;31m \u001b[0mtest_output\u001b[0m \u001b[0;34m=\u001b[0m \u001b[0mmodel\u001b[0m\u001b[0;34m.\u001b[0m\u001b[0mTrans\u001b[0m\u001b[0;34m(\u001b[0m\u001b[0mtest\u001b[0m\u001b[0;34m)\u001b[0m\u001b[0;34m\u001b[0m\u001b[0;34m\u001b[0m\u001b[0m\n\u001b[0m",
      "\u001b[0;32m/usr/local/lib/python3.6/dist-packages/torch/nn/modules/module.py\u001b[0m in \u001b[0;36m__call__\u001b[0;34m(self, *input, **kwargs)\u001b[0m\n\u001b[1;32m    548\u001b[0m             \u001b[0mresult\u001b[0m \u001b[0;34m=\u001b[0m \u001b[0mself\u001b[0m\u001b[0;34m.\u001b[0m\u001b[0m_slow_forward\u001b[0m\u001b[0;34m(\u001b[0m\u001b[0;34m*\u001b[0m\u001b[0minput\u001b[0m\u001b[0;34m,\u001b[0m \u001b[0;34m**\u001b[0m\u001b[0mkwargs\u001b[0m\u001b[0;34m)\u001b[0m\u001b[0;34m\u001b[0m\u001b[0;34m\u001b[0m\u001b[0m\n\u001b[1;32m    549\u001b[0m         \u001b[0;32melse\u001b[0m\u001b[0;34m:\u001b[0m\u001b[0;34m\u001b[0m\u001b[0;34m\u001b[0m\u001b[0m\n\u001b[0;32m--> 550\u001b[0;31m             \u001b[0mresult\u001b[0m \u001b[0;34m=\u001b[0m \u001b[0mself\u001b[0m\u001b[0;34m.\u001b[0m\u001b[0mforward\u001b[0m\u001b[0;34m(\u001b[0m\u001b[0;34m*\u001b[0m\u001b[0minput\u001b[0m\u001b[0;34m,\u001b[0m \u001b[0;34m**\u001b[0m\u001b[0mkwargs\u001b[0m\u001b[0;34m)\u001b[0m\u001b[0;34m\u001b[0m\u001b[0;34m\u001b[0m\u001b[0m\n\u001b[0m\u001b[1;32m    551\u001b[0m         \u001b[0;32mfor\u001b[0m \u001b[0mhook\u001b[0m \u001b[0;32min\u001b[0m \u001b[0mself\u001b[0m\u001b[0;34m.\u001b[0m\u001b[0m_forward_hooks\u001b[0m\u001b[0;34m.\u001b[0m\u001b[0mvalues\u001b[0m\u001b[0;34m(\u001b[0m\u001b[0;34m)\u001b[0m\u001b[0;34m:\u001b[0m\u001b[0;34m\u001b[0m\u001b[0;34m\u001b[0m\u001b[0m\n\u001b[1;32m    552\u001b[0m             \u001b[0mhook_result\u001b[0m \u001b[0;34m=\u001b[0m \u001b[0mhook\u001b[0m\u001b[0;34m(\u001b[0m\u001b[0mself\u001b[0m\u001b[0;34m,\u001b[0m \u001b[0minput\u001b[0m\u001b[0;34m,\u001b[0m \u001b[0mresult\u001b[0m\u001b[0;34m)\u001b[0m\u001b[0;34m\u001b[0m\u001b[0;34m\u001b[0m\u001b[0m\n",
      "\u001b[0;32m/Data/FoodDetection/AI_OCR/Trans.py\u001b[0m in \u001b[0;36mforward\u001b[0;34m(self, batch_i)\u001b[0m\n\u001b[1;32m     19\u001b[0m     \u001b[0;32mdef\u001b[0m \u001b[0mforward\u001b[0m\u001b[0;34m(\u001b[0m\u001b[0mself\u001b[0m\u001b[0;34m,\u001b[0m \u001b[0mbatch_i\u001b[0m\u001b[0;34m)\u001b[0m\u001b[0;34m:\u001b[0m\u001b[0;34m\u001b[0m\u001b[0;34m\u001b[0m\u001b[0m\n\u001b[1;32m     20\u001b[0m         \u001b[0mbatch_C_prime\u001b[0m \u001b[0;34m=\u001b[0m \u001b[0mself\u001b[0m\u001b[0;34m.\u001b[0m\u001b[0mLocalizationNetwork\u001b[0m\u001b[0;34m(\u001b[0m\u001b[0mbatch_i\u001b[0m\u001b[0;34m)\u001b[0m \u001b[0;31m# batch_size x K x2\u001b[0m\u001b[0;34m\u001b[0m\u001b[0;34m\u001b[0m\u001b[0m\n\u001b[0;32m---> 21\u001b[0;31m         \u001b[0mbuild_P_prime\u001b[0m \u001b[0;34m=\u001b[0m \u001b[0mself\u001b[0m\u001b[0;34m.\u001b[0m\u001b[0mGridGenerator\u001b[0m\u001b[0;34m.\u001b[0m\u001b[0mbuild_P_prime\u001b[0m\u001b[0;34m(\u001b[0m\u001b[0mbatch_C_prime\u001b[0m\u001b[0;34m)\u001b[0m \u001b[0;31m# batch_size x n x 2\u001b[0m\u001b[0;34m\u001b[0m\u001b[0;34m\u001b[0m\u001b[0m\n\u001b[0m\u001b[1;32m     22\u001b[0m         \u001b[0mbuild_P_prime_reshape\u001b[0m \u001b[0;34m=\u001b[0m \u001b[0mbuild_P_prime\u001b[0m\u001b[0;34m.\u001b[0m\u001b[0mreshape\u001b[0m\u001b[0;34m(\u001b[0m\u001b[0;34m[\u001b[0m\u001b[0mbuild_P_prime\u001b[0m\u001b[0;34m.\u001b[0m\u001b[0msize\u001b[0m\u001b[0;34m(\u001b[0m\u001b[0;36m0\u001b[0m\u001b[0;34m)\u001b[0m\u001b[0;34m,\u001b[0m \u001b[0mself\u001b[0m\u001b[0;34m.\u001b[0m\u001b[0mi_r_size\u001b[0m\u001b[0;34m[\u001b[0m\u001b[0;36m0\u001b[0m\u001b[0;34m]\u001b[0m\u001b[0;34m,\u001b[0m \u001b[0mself\u001b[0m\u001b[0;34m.\u001b[0m\u001b[0mi_r_size\u001b[0m\u001b[0;34m[\u001b[0m\u001b[0;36m1\u001b[0m\u001b[0;34m]\u001b[0m\u001b[0;34m,\u001b[0m \u001b[0;36m2\u001b[0m\u001b[0;34m]\u001b[0m\u001b[0;34m)\u001b[0m\u001b[0;34m\u001b[0m\u001b[0;34m\u001b[0m\u001b[0m\n\u001b[1;32m     23\u001b[0m \u001b[0;34m\u001b[0m\u001b[0m\n",
      "\u001b[0;32m/Data/FoodDetection/AI_OCR/Trans.py\u001b[0m in \u001b[0;36mbuild_P_prime\u001b[0;34m(self, batch_C_prime)\u001b[0m\n\u001b[1;32m    147\u001b[0m         \u001b[0mbatch_inv_delta_C\u001b[0m \u001b[0;34m=\u001b[0m \u001b[0mself\u001b[0m\u001b[0;34m.\u001b[0m\u001b[0minv_delta_C\u001b[0m\u001b[0;34m.\u001b[0m\u001b[0mrepeat\u001b[0m\u001b[0;34m(\u001b[0m\u001b[0mbatch_size\u001b[0m\u001b[0;34m,\u001b[0m \u001b[0;36m1\u001b[0m\u001b[0;34m,\u001b[0m \u001b[0;36m1\u001b[0m\u001b[0;34m)\u001b[0m\u001b[0;34m\u001b[0m\u001b[0;34m\u001b[0m\u001b[0m\n\u001b[1;32m    148\u001b[0m         \u001b[0mbatch_P_hat\u001b[0m \u001b[0;34m=\u001b[0m \u001b[0mself\u001b[0m\u001b[0;34m.\u001b[0m\u001b[0mP_hat\u001b[0m\u001b[0;34m.\u001b[0m\u001b[0mrepeat\u001b[0m\u001b[0;34m(\u001b[0m\u001b[0mbatch_size\u001b[0m\u001b[0;34m,\u001b[0m \u001b[0;36m1\u001b[0m\u001b[0;34m,\u001b[0m \u001b[0;36m1\u001b[0m\u001b[0;34m)\u001b[0m\u001b[0;34m\u001b[0m\u001b[0;34m\u001b[0m\u001b[0m\n\u001b[0;32m--> 149\u001b[0;31m         \u001b[0mbatch_C_prime_with_zeros\u001b[0m \u001b[0;34m=\u001b[0m \u001b[0mtorch\u001b[0m\u001b[0;34m.\u001b[0m\u001b[0mcat\u001b[0m\u001b[0;34m(\u001b[0m\u001b[0;34m(\u001b[0m\u001b[0mbatch_C_prime\u001b[0m\u001b[0;34m,\u001b[0m \u001b[0mtorch\u001b[0m\u001b[0;34m.\u001b[0m\u001b[0mzeros\u001b[0m\u001b[0;34m(\u001b[0m\u001b[0mbatch_size\u001b[0m\u001b[0;34m,\u001b[0m \u001b[0;36m3\u001b[0m\u001b[0;34m,\u001b[0m \u001b[0;36m2\u001b[0m\u001b[0;34m)\u001b[0m\u001b[0;34m.\u001b[0m\u001b[0mfloat\u001b[0m\u001b[0;34m(\u001b[0m\u001b[0;34m)\u001b[0m\u001b[0;34m.\u001b[0m\u001b[0mto\u001b[0m\u001b[0;34m(\u001b[0m\u001b[0mdevice\u001b[0m\u001b[0;34m)\u001b[0m\u001b[0;34m)\u001b[0m\u001b[0;34m,\u001b[0m \u001b[0mdim\u001b[0m\u001b[0;34m=\u001b[0m\u001b[0;36m1\u001b[0m\u001b[0;34m)\u001b[0m\u001b[0;34m\u001b[0m\u001b[0;34m\u001b[0m\u001b[0m\n\u001b[0m\u001b[1;32m    150\u001b[0m             \u001b[0;31m# batch_size x F+3 x 2\u001b[0m\u001b[0;34m\u001b[0m\u001b[0;34m\u001b[0m\u001b[0;34m\u001b[0m\u001b[0m\n\u001b[1;32m    151\u001b[0m         \u001b[0mbatch_T\u001b[0m \u001b[0;34m=\u001b[0m \u001b[0mtorch\u001b[0m\u001b[0;34m.\u001b[0m\u001b[0mbmm\u001b[0m\u001b[0;34m(\u001b[0m\u001b[0mbatch_inv_delta_C\u001b[0m\u001b[0;34m,\u001b[0m \u001b[0mbatch_C_prime_with_zeros\u001b[0m\u001b[0;34m)\u001b[0m \u001b[0;31m# batch_size x F+3 x 2\u001b[0m\u001b[0;34m\u001b[0m\u001b[0;34m\u001b[0m\u001b[0m\n",
      "\u001b[0;31mRuntimeError\u001b[0m: CUDA error: out of memory"
     ]
    }
   ],
   "source": [
    "test_output = model.Trans(test)"
   ]
  },
  {
   "cell_type": "code",
   "execution_count": 21,
   "metadata": {},
   "outputs": [
    {
     "data": {
      "text/plain": [
       "torch.Size([192, 3, 35, 90])"
      ]
     },
     "execution_count": 21,
     "metadata": {},
     "output_type": "execute_result"
    }
   ],
   "source": [
    "test_output.shape"
   ]
  },
  {
   "cell_type": "code",
   "execution_count": 22,
   "metadata": {},
   "outputs": [
    {
     "name": "stderr",
     "output_type": "stream",
     "text": [
      "/usr/local/lib/python3.6/dist-packages/torch/nn/functional.py:1569: UserWarning: nn.functional.sigmoid is deprecated. Use torch.sigmoid instead.\n",
      "  warnings.warn(\"nn.functional.sigmoid is deprecated. Use torch.sigmoid instead.\")\n"
     ]
    }
   ],
   "source": [
    "extract_output = model.Extract(test_output)"
   ]
  },
  {
   "cell_type": "code",
   "execution_count": 23,
   "metadata": {},
   "outputs": [
    {
     "data": {
      "text/plain": [
       "torch.Size([192, 512, 1, 23])"
      ]
     },
     "execution_count": 23,
     "metadata": {},
     "output_type": "execute_result"
    }
   ],
   "source": [
    "extract_output.shape"
   ]
  },
  {
   "cell_type": "code",
   "execution_count": 24,
   "metadata": {},
   "outputs": [],
   "source": [
    "visual_feature = torch.FloatTensor(10, 512, 1, 23)"
   ]
  },
  {
   "cell_type": "code",
   "execution_count": 26,
   "metadata": {},
   "outputs": [],
   "source": [
    "visual_feature_ = visual_feature.permute(0, 3, 1,2)"
   ]
  },
  {
   "cell_type": "code",
   "execution_count": 28,
   "metadata": {
    "collapsed": true
   },
   "outputs": [
    {
     "data": {
      "text/plain": [
       "tensor([[[ 4.9792e-40,  1.7541e+19,  5.1695e+07,  ...,  5.6938e-39,\n",
       "           1.7279e-41,  0.0000e+00],\n",
       "         [ 0.0000e+00,  1.8754e+28,  2.7347e+20,  ...,  1.4372e-41,\n",
       "           3.5816e-39,  1.9411e-41],\n",
       "         [ 6.4304e-39,  6.9146e+28,  1.6244e+19,  ...,  0.0000e+00,\n",
       "           0.0000e+00,  5.9693e-39],\n",
       "         ...,\n",
       "         [ 6.6814e-07,  1.6244e+19,  6.8589e+22,  ...,  0.0000e+00,\n",
       "           0.0000e+00,  5.9694e-39],\n",
       "         [ 1.9209e+31,  1.7443e+28,  1.5435e+25,  ...,  0.0000e+00,\n",
       "           0.0000e+00,  1.5829e-41],\n",
       "         [ 4.8403e+30,  3.5561e-09,  5.1694e+07,  ...,  0.0000e+00,\n",
       "           0.0000e+00,  0.0000e+00]],\n",
       "\n",
       "        [[ 2.6457e-42,  0.0000e+00,  0.0000e+00,  ...,  1.5246e-42,\n",
       "           9.0678e-42,  1.4586e-39],\n",
       "         [ 0.0000e+00,  5.1568e-43,  0.0000e+00,  ...,  7.5232e-37,\n",
       "           1.3677e-42, -2.2656e+38],\n",
       "         [ 2.1204e-41,  0.0000e+00,  0.0000e+00,  ...,  1.4586e-39,\n",
       "           7.5232e-37,  3.5733e-43],\n",
       "         ...,\n",
       "         [ 2.2248e-41,  0.0000e+00,  0.0000e+00,  ...,  5.6052e-45,\n",
       "           4.3087e-41,  1.4550e-39],\n",
       "         [ 6.0612e-39,  2.4244e-41,  0.0000e+00,  ...,  2.1367e-34,\n",
       "           0.0000e+00,  7.2205e-41],\n",
       "         [ 1.4417e-41,  8.3570e-39,  2.6846e-41,  ...,  1.4586e-39,\n",
       "           1.4161e-36,  4.9326e-43]],\n",
       "\n",
       "        [[ 7.5232e-37,  0.0000e+00,  1.8253e-12,  ...,  6.2778e-43,\n",
       "           4.3278e-31,  4.2825e-39],\n",
       "         [ 1.4615e-39,  8.6096e-42,  7.1466e-44,  ...,  7.5232e-37,\n",
       "           8.4078e-45,  4.1085e-40],\n",
       "         [ 4.3087e-41,  1.3008e-39,  1.4599e-36,  ...,  1.4615e-39,\n",
       "           1.9269e-34,  1.1210e-43],\n",
       "         ...,\n",
       "         [ 2.1366e-34,  8.9683e-44,  1.5141e-13,  ...,  1.4013e-45,\n",
       "           6.7625e-33,  1.1749e-37],\n",
       "         [ 1.4486e-39,  3.8500e-34,  3.5873e-43,  ...,  1.2879e-39,\n",
       "           0.0000e+00,  4.1084e-40],\n",
       "         [ 1.5496e-13,  1.4493e-39,  3.8500e-34,  ...,  1.4586e-39,\n",
       "           2.7927e-39,  0.0000e+00]],\n",
       "\n",
       "        ...,\n",
       "\n",
       "        [[ 1.0434e-37,  3.5733e-43,  2.2717e-40,  ...,  6.4542e-10,\n",
       "           7.7146e+31,  7.0809e+31],\n",
       "         [ 1.4593e-39,  2.1366e-34,  0.0000e+00,  ...,  6.4097e-10,\n",
       "           8.8924e-10,  2.8351e+03],\n",
       "         [ 7.0243e-30,  1.4593e-39,  7.5232e-37,  ...,  1.5434e+25,\n",
       "           5.0844e-08,  3.4661e+27],\n",
       "         ...,\n",
       "         [ 3.8500e-34,  1.9618e-44,  3.3225e-29,  ...,  1.0023e+12,\n",
       "           1.0320e-08,  2.8699e+32],\n",
       "         [ 1.4586e-39,  7.1466e-44,  1.4013e-45,  ...,  2.9188e-11,\n",
       "           4.4756e+27,  4.5630e+30],\n",
       "         [-2.3852e+38,  1.3207e-38,  3.8500e-34,  ...,  3.2183e+21,\n",
       "           3.0376e+29,  9.3146e-39]],\n",
       "\n",
       "        [[ 1.1095e+27,  1.1628e+27,  1.0645e+24,  ...,  0.0000e+00,\n",
       "           0.0000e+00,  0.0000e+00],\n",
       "         [ 6.7347e+22,  1.6529e+19,  4.1317e-08,  ...,  0.0000e+00,\n",
       "           0.0000e+00,  0.0000e+00],\n",
       "         [ 1.6678e+19,  4.5080e+21,  1.0003e+33,  ...,  0.0000e+00,\n",
       "           0.0000e+00,  0.0000e+00],\n",
       "         ...,\n",
       "         [ 1.7541e+19,  5.1695e+07,  5.5623e-05,  ...,  0.0000e+00,\n",
       "           0.0000e+00,  0.0000e+00],\n",
       "         [ 1.8754e+28,  2.7347e+20,  3.3949e-09,  ...,  0.0000e+00,\n",
       "           0.0000e+00,  0.0000e+00],\n",
       "         [ 6.9146e+28,  1.6244e+19,  6.4097e-10,  ...,  0.0000e+00,\n",
       "           0.0000e+00,  0.0000e+00]],\n",
       "\n",
       "        [[ 0.0000e+00,  0.0000e+00,  0.0000e+00,  ...,  1.4593e-39,\n",
       "           2.7927e-39,  0.0000e+00],\n",
       "         [ 0.0000e+00,  0.0000e+00,  0.0000e+00,  ...,  2.6664e-32,\n",
       "           2.8132e-39,  7.5232e-37],\n",
       "         [ 0.0000e+00,  0.0000e+00,  0.0000e+00,  ...,  8.4078e-45,\n",
       "           4.1085e-40,  1.4615e-39],\n",
       "         ...,\n",
       "         [ 0.0000e+00,  0.0000e+00,  0.0000e+00,  ...,  1.4615e-39,\n",
       "           1.1285e-36,  1.4013e-45],\n",
       "         [ 0.0000e+00,  0.0000e+00,  0.0000e+00,  ...,  4.1664e-34,\n",
       "           1.0573e-37,  4.4832e-38],\n",
       "         [ 0.0000e+00,  0.0000e+00,  0.0000e+00,  ...,  0.0000e+00,\n",
       "           4.1084e-40,  1.4586e-39]]])"
      ]
     },
     "execution_count": 28,
     "metadata": {},
     "output_type": "execute_result"
    }
   ],
   "source": [
    "visual_feature_.squeeze_(3)"
   ]
  },
  {
   "cell_type": "code",
   "execution_count": 29,
   "metadata": {},
   "outputs": [
    {
     "data": {
      "text/plain": [
       "torch.Size([10, 23, 512])"
      ]
     },
     "execution_count": 29,
     "metadata": {},
     "output_type": "execute_result"
    }
   ],
   "source": [
    "visual_feature_.shape"
   ]
  },
  {
   "cell_type": "code",
   "execution_count": null,
   "metadata": {},
   "outputs": [],
   "source": []
  }
 ],
 "metadata": {
  "kernelspec": {
   "display_name": "Python 3",
   "language": "python",
   "name": "python3"
  },
  "language_info": {
   "codemirror_mode": {
    "name": "ipython",
    "version": 3
   },
   "file_extension": ".py",
   "mimetype": "text/x-python",
   "name": "python",
   "nbconvert_exporter": "python",
   "pygments_lexer": "ipython3",
   "version": "3.6.7"
  }
 },
 "nbformat": 4,
 "nbformat_minor": 2
}
